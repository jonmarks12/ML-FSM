{
 "cells": [
  {
   "cell_type": "markdown",
   "metadata": {
    "id": "w0QLvXQs3V5U"
   },
   "source": [
    "## Setup"
   ]
  },
  {
   "cell_type": "code",
   "execution_count": 1,
   "metadata": {
    "colab": {
     "base_uri": "https://localhost:8080/"
    },
    "id": "z9qvDkkGD40Y",
    "outputId": "16febf27-0216-4acc-9ce0-5dd0b956c117"
   },
   "outputs": [
    {
     "name": "stdout",
     "output_type": "stream",
     "text": [
      "Cloning into 'ML-FSM'...\n",
      "remote: Enumerating objects: 65, done.\u001b[K\n",
      "remote: Counting objects: 100% (65/65), done.\u001b[K\n",
      "remote: Compressing objects: 100% (61/61), done.\u001b[K\n",
      "remote: Total 65 (delta 2), reused 56 (delta 0), pack-reused 0 (from 0)\u001b[K\n",
      "Receiving objects: 100% (65/65), 9.08 MiB | 13.19 MiB/s, done.\n",
      "Resolving deltas: 100% (2/2), done.\n",
      "/content/ML-FSM\n"
     ]
    }
   ],
   "source": [
    "#clone repo\n",
    "!git clone https://github.com/jonmarks12/ML-FSM.git\n",
    "%cd ML-FSM\n",
    "\n",
    "import sys\n",
    "sys.path.append('/content/ML-FSM')\n"
   ]
  },
  {
   "cell_type": "code",
   "execution_count": 2,
   "metadata": {
    "colab": {
     "base_uri": "https://localhost:8080/"
    },
    "id": "6R7IloMPbbna",
    "outputId": "d3246fef-7fdf-443c-f7f2-e2ce994ddc80"
   },
   "outputs": [
    {
     "name": "stdout",
     "output_type": "stream",
     "text": [
      "Collecting pytorch-lightning==2.4.0\n",
      "  Downloading pytorch_lightning-2.4.0-py3-none-any.whl.metadata (21 kB)\n",
      "Requirement already satisfied: torch>=2.1.0 in /usr/local/lib/python3.11/dist-packages (from pytorch-lightning==2.4.0) (2.6.0+cu124)\n",
      "Requirement already satisfied: tqdm>=4.57.0 in /usr/local/lib/python3.11/dist-packages (from pytorch-lightning==2.4.0) (4.67.1)\n",
      "Requirement already satisfied: PyYAML>=5.4 in /usr/local/lib/python3.11/dist-packages (from pytorch-lightning==2.4.0) (6.0.2)\n",
      "Requirement already satisfied: fsspec>=2022.5.0 in /usr/local/lib/python3.11/dist-packages (from fsspec[http]>=2022.5.0->pytorch-lightning==2.4.0) (2025.3.2)\n",
      "Collecting torchmetrics>=0.7.0 (from pytorch-lightning==2.4.0)\n",
      "  Downloading torchmetrics-1.7.1-py3-none-any.whl.metadata (21 kB)\n",
      "Requirement already satisfied: packaging>=20.0 in /usr/local/lib/python3.11/dist-packages (from pytorch-lightning==2.4.0) (24.2)\n",
      "Requirement already satisfied: typing-extensions>=4.4.0 in /usr/local/lib/python3.11/dist-packages (from pytorch-lightning==2.4.0) (4.13.2)\n",
      "Collecting lightning-utilities>=0.10.0 (from pytorch-lightning==2.4.0)\n",
      "  Downloading lightning_utilities-0.14.3-py3-none-any.whl.metadata (5.6 kB)\n",
      "Requirement already satisfied: aiohttp!=4.0.0a0,!=4.0.0a1 in /usr/local/lib/python3.11/dist-packages (from fsspec[http]>=2022.5.0->pytorch-lightning==2.4.0) (3.11.15)\n",
      "Requirement already satisfied: setuptools in /usr/local/lib/python3.11/dist-packages (from lightning-utilities>=0.10.0->pytorch-lightning==2.4.0) (75.2.0)\n",
      "Requirement already satisfied: filelock in /usr/local/lib/python3.11/dist-packages (from torch>=2.1.0->pytorch-lightning==2.4.0) (3.18.0)\n",
      "Requirement already satisfied: networkx in /usr/local/lib/python3.11/dist-packages (from torch>=2.1.0->pytorch-lightning==2.4.0) (3.4.2)\n",
      "Requirement already satisfied: jinja2 in /usr/local/lib/python3.11/dist-packages (from torch>=2.1.0->pytorch-lightning==2.4.0) (3.1.6)\n",
      "Collecting nvidia-cuda-nvrtc-cu12==12.4.127 (from torch>=2.1.0->pytorch-lightning==2.4.0)\n",
      "  Downloading nvidia_cuda_nvrtc_cu12-12.4.127-py3-none-manylinux2014_x86_64.whl.metadata (1.5 kB)\n",
      "Collecting nvidia-cuda-runtime-cu12==12.4.127 (from torch>=2.1.0->pytorch-lightning==2.4.0)\n",
      "  Downloading nvidia_cuda_runtime_cu12-12.4.127-py3-none-manylinux2014_x86_64.whl.metadata (1.5 kB)\n",
      "Collecting nvidia-cuda-cupti-cu12==12.4.127 (from torch>=2.1.0->pytorch-lightning==2.4.0)\n",
      "  Downloading nvidia_cuda_cupti_cu12-12.4.127-py3-none-manylinux2014_x86_64.whl.metadata (1.6 kB)\n",
      "Collecting nvidia-cudnn-cu12==9.1.0.70 (from torch>=2.1.0->pytorch-lightning==2.4.0)\n",
      "  Downloading nvidia_cudnn_cu12-9.1.0.70-py3-none-manylinux2014_x86_64.whl.metadata (1.6 kB)\n",
      "Collecting nvidia-cublas-cu12==12.4.5.8 (from torch>=2.1.0->pytorch-lightning==2.4.0)\n",
      "  Downloading nvidia_cublas_cu12-12.4.5.8-py3-none-manylinux2014_x86_64.whl.metadata (1.5 kB)\n",
      "Collecting nvidia-cufft-cu12==11.2.1.3 (from torch>=2.1.0->pytorch-lightning==2.4.0)\n",
      "  Downloading nvidia_cufft_cu12-11.2.1.3-py3-none-manylinux2014_x86_64.whl.metadata (1.5 kB)\n",
      "Collecting nvidia-curand-cu12==10.3.5.147 (from torch>=2.1.0->pytorch-lightning==2.4.0)\n",
      "  Downloading nvidia_curand_cu12-10.3.5.147-py3-none-manylinux2014_x86_64.whl.metadata (1.5 kB)\n",
      "Collecting nvidia-cusolver-cu12==11.6.1.9 (from torch>=2.1.0->pytorch-lightning==2.4.0)\n",
      "  Downloading nvidia_cusolver_cu12-11.6.1.9-py3-none-manylinux2014_x86_64.whl.metadata (1.6 kB)\n",
      "Collecting nvidia-cusparse-cu12==12.3.1.170 (from torch>=2.1.0->pytorch-lightning==2.4.0)\n",
      "  Downloading nvidia_cusparse_cu12-12.3.1.170-py3-none-manylinux2014_x86_64.whl.metadata (1.6 kB)\n",
      "Requirement already satisfied: nvidia-cusparselt-cu12==0.6.2 in /usr/local/lib/python3.11/dist-packages (from torch>=2.1.0->pytorch-lightning==2.4.0) (0.6.2)\n",
      "Requirement already satisfied: nvidia-nccl-cu12==2.21.5 in /usr/local/lib/python3.11/dist-packages (from torch>=2.1.0->pytorch-lightning==2.4.0) (2.21.5)\n",
      "Requirement already satisfied: nvidia-nvtx-cu12==12.4.127 in /usr/local/lib/python3.11/dist-packages (from torch>=2.1.0->pytorch-lightning==2.4.0) (12.4.127)\n",
      "Collecting nvidia-nvjitlink-cu12==12.4.127 (from torch>=2.1.0->pytorch-lightning==2.4.0)\n",
      "  Downloading nvidia_nvjitlink_cu12-12.4.127-py3-none-manylinux2014_x86_64.whl.metadata (1.5 kB)\n",
      "Requirement already satisfied: triton==3.2.0 in /usr/local/lib/python3.11/dist-packages (from torch>=2.1.0->pytorch-lightning==2.4.0) (3.2.0)\n",
      "Requirement already satisfied: sympy==1.13.1 in /usr/local/lib/python3.11/dist-packages (from torch>=2.1.0->pytorch-lightning==2.4.0) (1.13.1)\n",
      "Requirement already satisfied: mpmath<1.4,>=1.1.0 in /usr/local/lib/python3.11/dist-packages (from sympy==1.13.1->torch>=2.1.0->pytorch-lightning==2.4.0) (1.3.0)\n",
      "Requirement already satisfied: numpy>1.20.0 in /usr/local/lib/python3.11/dist-packages (from torchmetrics>=0.7.0->pytorch-lightning==2.4.0) (2.0.2)\n",
      "Requirement already satisfied: aiohappyeyeballs>=2.3.0 in /usr/local/lib/python3.11/dist-packages (from aiohttp!=4.0.0a0,!=4.0.0a1->fsspec[http]>=2022.5.0->pytorch-lightning==2.4.0) (2.6.1)\n",
      "Requirement already satisfied: aiosignal>=1.1.2 in /usr/local/lib/python3.11/dist-packages (from aiohttp!=4.0.0a0,!=4.0.0a1->fsspec[http]>=2022.5.0->pytorch-lightning==2.4.0) (1.3.2)\n",
      "Requirement already satisfied: attrs>=17.3.0 in /usr/local/lib/python3.11/dist-packages (from aiohttp!=4.0.0a0,!=4.0.0a1->fsspec[http]>=2022.5.0->pytorch-lightning==2.4.0) (25.3.0)\n",
      "Requirement already satisfied: frozenlist>=1.1.1 in /usr/local/lib/python3.11/dist-packages (from aiohttp!=4.0.0a0,!=4.0.0a1->fsspec[http]>=2022.5.0->pytorch-lightning==2.4.0) (1.6.0)\n",
      "Requirement already satisfied: multidict<7.0,>=4.5 in /usr/local/lib/python3.11/dist-packages (from aiohttp!=4.0.0a0,!=4.0.0a1->fsspec[http]>=2022.5.0->pytorch-lightning==2.4.0) (6.4.3)\n",
      "Requirement already satisfied: propcache>=0.2.0 in /usr/local/lib/python3.11/dist-packages (from aiohttp!=4.0.0a0,!=4.0.0a1->fsspec[http]>=2022.5.0->pytorch-lightning==2.4.0) (0.3.1)\n",
      "Requirement already satisfied: yarl<2.0,>=1.17.0 in /usr/local/lib/python3.11/dist-packages (from aiohttp!=4.0.0a0,!=4.0.0a1->fsspec[http]>=2022.5.0->pytorch-lightning==2.4.0) (1.20.0)\n",
      "Requirement already satisfied: MarkupSafe>=2.0 in /usr/local/lib/python3.11/dist-packages (from jinja2->torch>=2.1.0->pytorch-lightning==2.4.0) (3.0.2)\n",
      "Requirement already satisfied: idna>=2.0 in /usr/local/lib/python3.11/dist-packages (from yarl<2.0,>=1.17.0->aiohttp!=4.0.0a0,!=4.0.0a1->fsspec[http]>=2022.5.0->pytorch-lightning==2.4.0) (3.10)\n",
      "Downloading pytorch_lightning-2.4.0-py3-none-any.whl (815 kB)\n",
      "\u001b[2K   \u001b[90m━━━━━━━━━━━━━━━━━━━━━━━━━━━━━━━━━━━━━━━━\u001b[0m \u001b[32m815.2/815.2 kB\u001b[0m \u001b[31m54.5 MB/s\u001b[0m eta \u001b[36m0:00:00\u001b[0m\n",
      "\u001b[?25hDownloading lightning_utilities-0.14.3-py3-none-any.whl (28 kB)\n",
      "Downloading nvidia_cublas_cu12-12.4.5.8-py3-none-manylinux2014_x86_64.whl (363.4 MB)\n",
      "\u001b[2K   \u001b[90m━━━━━━━━━━━━━━━━━━━━━━━━━━━━━━━━━━━━━━━━\u001b[0m \u001b[32m363.4/363.4 MB\u001b[0m \u001b[31m4.0 MB/s\u001b[0m eta \u001b[36m0:00:00\u001b[0m\n",
      "\u001b[?25hDownloading nvidia_cuda_cupti_cu12-12.4.127-py3-none-manylinux2014_x86_64.whl (13.8 MB)\n",
      "\u001b[2K   \u001b[90m━━━━━━━━━━━━━━━━━━━━━━━━━━━━━━━━━━━━━━━━\u001b[0m \u001b[32m13.8/13.8 MB\u001b[0m \u001b[31m99.0 MB/s\u001b[0m eta \u001b[36m0:00:00\u001b[0m\n",
      "\u001b[?25hDownloading nvidia_cuda_nvrtc_cu12-12.4.127-py3-none-manylinux2014_x86_64.whl (24.6 MB)\n",
      "\u001b[2K   \u001b[90m━━━━━━━━━━━━━━━━━━━━━━━━━━━━━━━━━━━━━━━━\u001b[0m \u001b[32m24.6/24.6 MB\u001b[0m \u001b[31m71.8 MB/s\u001b[0m eta \u001b[36m0:00:00\u001b[0m\n",
      "\u001b[?25hDownloading nvidia_cuda_runtime_cu12-12.4.127-py3-none-manylinux2014_x86_64.whl (883 kB)\n",
      "\u001b[2K   \u001b[90m━━━━━━━━━━━━━━━━━━━━━━━━━━━━━━━━━━━━━━━━\u001b[0m \u001b[32m883.7/883.7 kB\u001b[0m \u001b[31m51.2 MB/s\u001b[0m eta \u001b[36m0:00:00\u001b[0m\n",
      "\u001b[?25hDownloading nvidia_cudnn_cu12-9.1.0.70-py3-none-manylinux2014_x86_64.whl (664.8 MB)\n",
      "\u001b[2K   \u001b[90m━━━━━━━━━━━━━━━━━━━━━━━━━━━━━━━━━━━━━━━━\u001b[0m \u001b[32m664.8/664.8 MB\u001b[0m \u001b[31m2.0 MB/s\u001b[0m eta \u001b[36m0:00:00\u001b[0m\n",
      "\u001b[?25hDownloading nvidia_cufft_cu12-11.2.1.3-py3-none-manylinux2014_x86_64.whl (211.5 MB)\n",
      "\u001b[2K   \u001b[90m━━━━━━━━━━━━━━━━━━━━━━━━━━━━━━━━━━━━━━━━\u001b[0m \u001b[32m211.5/211.5 MB\u001b[0m \u001b[31m5.8 MB/s\u001b[0m eta \u001b[36m0:00:00\u001b[0m\n",
      "\u001b[?25hDownloading nvidia_curand_cu12-10.3.5.147-py3-none-manylinux2014_x86_64.whl (56.3 MB)\n",
      "\u001b[2K   \u001b[90m━━━━━━━━━━━━━━━━━━━━━━━━━━━━━━━━━━━━━━━━\u001b[0m \u001b[32m56.3/56.3 MB\u001b[0m \u001b[31m12.7 MB/s\u001b[0m eta \u001b[36m0:00:00\u001b[0m\n",
      "\u001b[?25hDownloading nvidia_cusolver_cu12-11.6.1.9-py3-none-manylinux2014_x86_64.whl (127.9 MB)\n",
      "\u001b[2K   \u001b[90m━━━━━━━━━━━━━━━━━━━━━━━━━━━━━━━━━━━━━━━━\u001b[0m \u001b[32m127.9/127.9 MB\u001b[0m \u001b[31m8.2 MB/s\u001b[0m eta \u001b[36m0:00:00\u001b[0m\n",
      "\u001b[?25hDownloading nvidia_cusparse_cu12-12.3.1.170-py3-none-manylinux2014_x86_64.whl (207.5 MB)\n",
      "\u001b[2K   \u001b[90m━━━━━━━━━━━━━━━━━━━━━━━━━━━━━━━━━━━━━━━━\u001b[0m \u001b[32m207.5/207.5 MB\u001b[0m \u001b[31m5.5 MB/s\u001b[0m eta \u001b[36m0:00:00\u001b[0m\n",
      "\u001b[?25hDownloading nvidia_nvjitlink_cu12-12.4.127-py3-none-manylinux2014_x86_64.whl (21.1 MB)\n",
      "\u001b[2K   \u001b[90m━━━━━━━━━━━━━━━━━━━━━━━━━━━━━━━━━━━━━━━━\u001b[0m \u001b[32m21.1/21.1 MB\u001b[0m \u001b[31m76.5 MB/s\u001b[0m eta \u001b[36m0:00:00\u001b[0m\n",
      "\u001b[?25hDownloading torchmetrics-1.7.1-py3-none-any.whl (961 kB)\n",
      "\u001b[2K   \u001b[90m━━━━━━━━━━━━━━━━━━━━━━━━━━━━━━━━━━━━━━━━\u001b[0m \u001b[32m961.5/961.5 kB\u001b[0m \u001b[31m62.8 MB/s\u001b[0m eta \u001b[36m0:00:00\u001b[0m\n",
      "\u001b[?25hInstalling collected packages: nvidia-nvjitlink-cu12, nvidia-curand-cu12, nvidia-cufft-cu12, nvidia-cuda-runtime-cu12, nvidia-cuda-nvrtc-cu12, nvidia-cuda-cupti-cu12, nvidia-cublas-cu12, lightning-utilities, nvidia-cusparse-cu12, nvidia-cudnn-cu12, nvidia-cusolver-cu12, torchmetrics, pytorch-lightning\n",
      "  Attempting uninstall: nvidia-nvjitlink-cu12\n",
      "    Found existing installation: nvidia-nvjitlink-cu12 12.5.82\n",
      "    Uninstalling nvidia-nvjitlink-cu12-12.5.82:\n",
      "      Successfully uninstalled nvidia-nvjitlink-cu12-12.5.82\n",
      "  Attempting uninstall: nvidia-curand-cu12\n",
      "    Found existing installation: nvidia-curand-cu12 10.3.6.82\n",
      "    Uninstalling nvidia-curand-cu12-10.3.6.82:\n",
      "      Successfully uninstalled nvidia-curand-cu12-10.3.6.82\n",
      "  Attempting uninstall: nvidia-cufft-cu12\n",
      "    Found existing installation: nvidia-cufft-cu12 11.2.3.61\n",
      "    Uninstalling nvidia-cufft-cu12-11.2.3.61:\n",
      "      Successfully uninstalled nvidia-cufft-cu12-11.2.3.61\n",
      "  Attempting uninstall: nvidia-cuda-runtime-cu12\n",
      "    Found existing installation: nvidia-cuda-runtime-cu12 12.5.82\n",
      "    Uninstalling nvidia-cuda-runtime-cu12-12.5.82:\n",
      "      Successfully uninstalled nvidia-cuda-runtime-cu12-12.5.82\n",
      "  Attempting uninstall: nvidia-cuda-nvrtc-cu12\n",
      "    Found existing installation: nvidia-cuda-nvrtc-cu12 12.5.82\n",
      "    Uninstalling nvidia-cuda-nvrtc-cu12-12.5.82:\n",
      "      Successfully uninstalled nvidia-cuda-nvrtc-cu12-12.5.82\n",
      "  Attempting uninstall: nvidia-cuda-cupti-cu12\n",
      "    Found existing installation: nvidia-cuda-cupti-cu12 12.5.82\n",
      "    Uninstalling nvidia-cuda-cupti-cu12-12.5.82:\n",
      "      Successfully uninstalled nvidia-cuda-cupti-cu12-12.5.82\n",
      "  Attempting uninstall: nvidia-cublas-cu12\n",
      "    Found existing installation: nvidia-cublas-cu12 12.5.3.2\n",
      "    Uninstalling nvidia-cublas-cu12-12.5.3.2:\n",
      "      Successfully uninstalled nvidia-cublas-cu12-12.5.3.2\n",
      "  Attempting uninstall: nvidia-cusparse-cu12\n",
      "    Found existing installation: nvidia-cusparse-cu12 12.5.1.3\n",
      "    Uninstalling nvidia-cusparse-cu12-12.5.1.3:\n",
      "      Successfully uninstalled nvidia-cusparse-cu12-12.5.1.3\n",
      "  Attempting uninstall: nvidia-cudnn-cu12\n",
      "    Found existing installation: nvidia-cudnn-cu12 9.3.0.75\n",
      "    Uninstalling nvidia-cudnn-cu12-9.3.0.75:\n",
      "      Successfully uninstalled nvidia-cudnn-cu12-9.3.0.75\n",
      "  Attempting uninstall: nvidia-cusolver-cu12\n",
      "    Found existing installation: nvidia-cusolver-cu12 11.6.3.83\n",
      "    Uninstalling nvidia-cusolver-cu12-11.6.3.83:\n",
      "      Successfully uninstalled nvidia-cusolver-cu12-11.6.3.83\n",
      "Successfully installed lightning-utilities-0.14.3 nvidia-cublas-cu12-12.4.5.8 nvidia-cuda-cupti-cu12-12.4.127 nvidia-cuda-nvrtc-cu12-12.4.127 nvidia-cuda-runtime-cu12-12.4.127 nvidia-cudnn-cu12-9.1.0.70 nvidia-cufft-cu12-11.2.1.3 nvidia-curand-cu12-10.3.5.147 nvidia-cusolver-cu12-11.6.1.9 nvidia-cusparse-cu12-12.3.1.170 nvidia-nvjitlink-cu12-12.4.127 pytorch-lightning-2.4.0 torchmetrics-1.7.1\n",
      "Collecting ase\n",
      "  Downloading ase-3.25.0-py3-none-any.whl.metadata (4.2 kB)\n",
      "Collecting geometric\n",
      "  Downloading geometric-1.1.tar.gz (386 kB)\n",
      "\u001b[2K     \u001b[90m━━━━━━━━━━━━━━━━━━━━━━━━━━━━━━━━━━━━━━\u001b[0m \u001b[32m386.0/386.0 kB\u001b[0m \u001b[31m20.8 MB/s\u001b[0m eta \u001b[36m0:00:00\u001b[0m\n",
      "\u001b[?25h  Preparing metadata (setup.py) ... \u001b[?25l\u001b[?25hdone\n",
      "Requirement already satisfied: numpy>=1.19.5 in /usr/local/lib/python3.11/dist-packages (from ase) (2.0.2)\n",
      "Requirement already satisfied: scipy>=1.6.0 in /usr/local/lib/python3.11/dist-packages (from ase) (1.14.1)\n",
      "Requirement already satisfied: matplotlib>=3.3.4 in /usr/local/lib/python3.11/dist-packages (from ase) (3.10.0)\n",
      "Requirement already satisfied: networkx in /usr/local/lib/python3.11/dist-packages (from geometric) (3.4.2)\n",
      "Requirement already satisfied: six in /usr/local/lib/python3.11/dist-packages (from geometric) (1.17.0)\n",
      "Requirement already satisfied: contourpy>=1.0.1 in /usr/local/lib/python3.11/dist-packages (from matplotlib>=3.3.4->ase) (1.3.2)\n",
      "Requirement already satisfied: cycler>=0.10 in /usr/local/lib/python3.11/dist-packages (from matplotlib>=3.3.4->ase) (0.12.1)\n",
      "Requirement already satisfied: fonttools>=4.22.0 in /usr/local/lib/python3.11/dist-packages (from matplotlib>=3.3.4->ase) (4.57.0)\n",
      "Requirement already satisfied: kiwisolver>=1.3.1 in /usr/local/lib/python3.11/dist-packages (from matplotlib>=3.3.4->ase) (1.4.8)\n",
      "Requirement already satisfied: packaging>=20.0 in /usr/local/lib/python3.11/dist-packages (from matplotlib>=3.3.4->ase) (24.2)\n",
      "Requirement already satisfied: pillow>=8 in /usr/local/lib/python3.11/dist-packages (from matplotlib>=3.3.4->ase) (11.1.0)\n",
      "Requirement already satisfied: pyparsing>=2.3.1 in /usr/local/lib/python3.11/dist-packages (from matplotlib>=3.3.4->ase) (3.2.3)\n",
      "Requirement already satisfied: python-dateutil>=2.7 in /usr/local/lib/python3.11/dist-packages (from matplotlib>=3.3.4->ase) (2.8.2)\n",
      "Downloading ase-3.25.0-py3-none-any.whl (3.0 MB)\n",
      "\u001b[2K   \u001b[90m━━━━━━━━━━━━━━━━━━━━━━━━━━━━━━━━━━━━━━━━\u001b[0m \u001b[32m3.0/3.0 MB\u001b[0m \u001b[31m79.0 MB/s\u001b[0m eta \u001b[36m0:00:00\u001b[0m\n",
      "\u001b[?25hBuilding wheels for collected packages: geometric\n",
      "  Building wheel for geometric (setup.py) ... \u001b[?25l\u001b[?25hdone\n",
      "  Created wheel for geometric: filename=geometric-1.1-py3-none-any.whl size=402087 sha256=a8d97ceca2c4e6a7496d79d8d9d1c5c2bb16c931417b717570ba6331bb988653\n",
      "  Stored in directory: /root/.cache/pip/wheels/c5/77/0c/96a54539fe0560749fdbe283f92582d09bddb212856407a4cb\n",
      "Successfully built geometric\n",
      "Installing collected packages: geometric, ase\n",
      "Successfully installed ase-3.25.0 geometric-1.1\n",
      "Collecting py3Dmol\n",
      "  Downloading py3Dmol-2.4.2-py2.py3-none-any.whl.metadata (1.9 kB)\n",
      "Downloading py3Dmol-2.4.2-py2.py3-none-any.whl (7.0 kB)\n",
      "Installing collected packages: py3Dmol\n",
      "Successfully installed py3Dmol-2.4.2\n"
     ]
    }
   ],
   "source": [
    "!pip install pytorch-lightning==2.4.0\n",
    "!pip install ase geometric\n",
    "!pip install py3Dmol\n",
    "import py3Dmol\n",
    "import ipywidgets as widgets\n",
    "from IPython.display import display\n",
    "from IPython.display import HTML\n",
    "import matplotlib.pyplot as plt\n",
    "import os\n",
    "import ase\n",
    "import shutil\n",
    "import argparse\n",
    "import numpy as np\n",
    "from calc import QChemRunner, XTBRunner\n",
    "from cos import FreezingString\n",
    "from geom import calculate_arc_length\n",
    "from opt import CartesianOptimizer, InternalsOptimizer\n",
    "from utils import load_xyz"
   ]
  },
  {
   "cell_type": "code",
   "execution_count": 3,
   "metadata": {
    "colab": {
     "base_uri": "https://localhost:8080/"
    },
    "id": "3c4dseE3WSUQ",
    "outputId": "910d5171-9dbb-4a4c-da4b-5b7fdd6d5f1f"
   },
   "outputs": [
    {
     "name": "stdout",
     "output_type": "stream",
     "text": [
      "2.6.0+cu124\n",
      "\u001b[2K     \u001b[90m━━━━━━━━━━━━━━━━━━━━━━━━━━━━━━━━━━━━━━━━\u001b[0m \u001b[32m10.8/10.8 MB\u001b[0m \u001b[31m65.7 MB/s\u001b[0m eta \u001b[36m0:00:00\u001b[0m\n",
      "\u001b[2K     \u001b[90m━━━━━━━━━━━━━━━━━━━━━━━━━━━━━━━━━━━━━━━━\u001b[0m \u001b[32m5.0/5.0 MB\u001b[0m \u001b[31m58.4 MB/s\u001b[0m eta \u001b[36m0:00:00\u001b[0m\n",
      "\u001b[2K     \u001b[90m━━━━━━━━━━━━━━━━━━━━━━━━━━━━━━━━━━━━━━━━\u001b[0m \u001b[32m3.4/3.4 MB\u001b[0m \u001b[31m59.9 MB/s\u001b[0m eta \u001b[36m0:00:00\u001b[0m\n",
      "\u001b[2K     \u001b[90m━━━━━━━━━━━━━━━━━━━━━━━━━━━━━━━━━━━━━━━━\u001b[0m \u001b[32m1.0/1.0 MB\u001b[0m \u001b[31m38.6 MB/s\u001b[0m eta \u001b[36m0:00:00\u001b[0m\n",
      "\u001b[2K     \u001b[90m━━━━━━━━━━━━━━━━━━━━━━━━━━━━━━━━━━━━━━\u001b[0m \u001b[32m370.4/370.4 kB\u001b[0m \u001b[31m22.2 MB/s\u001b[0m eta \u001b[36m0:00:00\u001b[0m\n",
      "\u001b[?25h  Preparing metadata (setup.py) ... \u001b[?25l\u001b[?25hdone\n",
      "\u001b[2K   \u001b[90m━━━━━━━━━━━━━━━━━━━━━━━━━━━━━━━━━━━━━━━━\u001b[0m \u001b[32m565.1/565.1 kB\u001b[0m \u001b[31m38.6 MB/s\u001b[0m eta \u001b[36m0:00:00\u001b[0m\n",
      "\u001b[?25h  Building wheel for torch-geometric (setup.py) ... \u001b[?25l\u001b[?25hdone\n"
     ]
    }
   ],
   "source": [
    "import torch\n",
    "os.environ['TORCH'] = torch.__version__\n",
    "print(torch.__version__)\n",
    "\n",
    "!pip install -q torch-scatter -f https://data.pyg.org/whl/torch-${TORCH}.html\n",
    "!pip install -q torch-sparse -f https://data.pyg.org/whl/torch-${TORCH}.html\n",
    "!pip install -q torch-cluster -f https://data.pyg.org/whl/torch-${TORCH}.html\n",
    "!pip install -q torch-spline-conv -f https://data.pyg.org/whl/torch-${TORCH}.html\n",
    "!pip install -q torch-geometric==2.0.3"
   ]
  },
  {
   "cell_type": "markdown",
   "metadata": {
    "id": "bGeA4P7f2X-o"
   },
   "source": [
    "## Manually load reactant and product"
   ]
  },
  {
   "cell_type": "code",
   "execution_count": 4,
   "metadata": {
    "id": "sqX1AHiFxwBv"
   },
   "outputs": [],
   "source": [
    "reactant = ase.Atoms(symbols=['C', 'C', 'H', 'H', 'H', 'H', 'H', 'H'],\n",
    "                     positions=[\n",
    "                    [ 0.8250132507, -0.3044255156, -0.0001793369],\n",
    "                    [-0.0708590455,  0.6761106267, -0.0016038483],\n",
    "                    [-2.2168320223, -1.1357962646,  0.0051867426],\n",
    "                    [-2.9069107362, -1.4149124935,  0.0006665373],\n",
    "                    [ 1.2144012074, -0.7244594455, -0.9242788205],\n",
    "                    [ 1.2098231719, -0.7260043834,  0.9251338654],\n",
    "                    [-0.4588134959,  1.0959757755,  0.9230324730],\n",
    "                    [-0.4554227885,  1.0988459975, -0.9270321510],\n",
    "                    ]\n",
    "                     )\n",
    "\n",
    "product = ase.Atoms(symbols=['C', 'C', 'H', 'H', 'H', 'H', 'H', 'H'],\n",
    "                    positions=[\n",
    "                    [-0.7630691361, -0.0020190208,  0.0034566355],\n",
    "                    [ 0.7626325757,  0.0019950530,  0.0009730411],\n",
    "                    [-1.1589043116, -0.5118960388,  0.8883793728],\n",
    "                    [ 1.1613211937,  0.5116793524,  0.8847263259],\n",
    "                    [-1.1629572511,  1.0174805269,  0.0041985317],\n",
    "                    [-1.1617577754, -0.5117033851, -0.8802966057],\n",
    "                    [ 1.1625206820, -1.0175044968,  0.0002310876],\n",
    "                    [ 1.1584677813,  0.5118721300, -0.8839496535],\n",
    "                    ]\n",
    "                     )"
   ]
  },
  {
   "cell_type": "markdown",
   "metadata": {
    "id": "HeDzIcpp2gUq"
   },
   "source": [
    "#Run FSM"
   ]
  },
  {
   "cell_type": "code",
   "execution_count": 5,
   "metadata": {
    "colab": {
     "base_uri": "https://localhost:8080/"
    },
    "id": "VX83ack6b-lg",
    "outputId": "3a54e32a-5d07-4752-a6d7-35241d95b488"
   },
   "outputs": [
    {
     "name": "stderr",
     "output_type": "stream",
     "text": [
      "INFO:pytorch_lightning.utilities.migration.utils:Lightning automatically upgraded your loaded checkpoint from v1.5.9 to v2.4.0. To apply the upgrade to your files permanently, run `python -m pytorch_lightning.utilities.upgrade_checkpoint gnns/schnet_fine_tuned.ckpt`\n"
     ]
    },
    {
     "name": "stdout",
     "output_type": "stream",
     "text": [
      "Pre-trained model parameters loaded\n",
      "NNODES_MIN: 18\n",
      "DIST: 3.517 STEPSIZE: 0.195\n"
     ]
    }
   ],
   "source": [
    "#parameters\n",
    "nnodes_min = 18\n",
    "interp = 'ric'\n",
    "ninterp = 50\n",
    "method = 'L-BFGS-B'\n",
    "maxiter = 1\n",
    "maxls = 3\n",
    "dmax = 0.3\n",
    "\n",
    "#load calculator\n",
    "from nn_calc import SchNetRunner\n",
    "calc = SchNetRunner(reactant,'gnns/schnet_fine_tuned.ckpt')\n",
    "\n",
    "# string class\n",
    "string = FreezingString(reactant, product, nnodes_min, interp, ninterp)\n",
    "\n",
    "# optimizer class\n",
    "optimizer = CartesianOptimizer(calc, method, maxiter, maxls, dmax)\n",
    "\n",
    "# run\n",
    "while (string.growing):\n",
    "    string.grow()\n",
    "    string.optimize(optimizer)"
   ]
  },
  {
   "cell_type": "markdown",
   "metadata": {
    "id": "VDaxz_CN2rSZ"
   },
   "source": [
    "## Plotting and Visualization"
   ]
  },
  {
   "cell_type": "code",
   "execution_count": 6,
   "metadata": {
    "id": "ybfqXaWKchKX"
   },
   "outputs": [],
   "source": [
    "all_atoms = string.r_string+string.p_string[::-1]\n",
    "all_energies = string.r_energy+string.p_energy[::-1]\n",
    "all_energies = (all_energies-min(all_energies))*627.51\n",
    "ts_idx = all_energies.argmax()\n",
    "path = [structure.get_positions() for structure in all_atoms]\n",
    "s = calculate_arc_length(np.array(path))"
   ]
  },
  {
   "cell_type": "code",
   "execution_count": 8,
   "metadata": {
    "colab": {
     "base_uri": "https://localhost:8080/",
     "height": 451
    },
    "id": "f2RjahXmTRRq",
    "outputId": "5c7625d1-e334-4e99-d18b-633e99c4fa9d"
   },
   "outputs": [
    {
     "data": {
      "image/png": "[encoded data removed]",
      "text/plain": [
       "<Figure size 640x480 with 1 Axes>"
      ]
     },
     "metadata": {},
     "output_type": "display_data"
    }
   ],
   "source": [
    "plt.plot(s,all_energies,label='FSM Path')\n",
    "plt.scatter(s[ts_idx],all_energies[ts_idx],color='red',label='TS Guess')\n",
    "plt.scatter(s[0],all_energies[0],color='black',label='Reactant/Product')\n",
    "plt.scatter(s[-1],all_energies[-1],color='black')\n",
    "plt.xlabel('Arclength (Å)')\n",
    "plt.ylabel('Energy (kcal/mol)')\n",
    "plt.legend()\n",
    "plt.show()"
   ]
  },
  {
   "cell_type": "code",
   "execution_count": 9,
   "metadata": {
    "colab": {
     "base_uri": "https://localhost:8080/",
     "height": 305
    },
    "id": "437ie0q2O7bZ",
    "outputId": "075cfcdf-51b7-4a1b-b999-23423846b671"
   },
   "outputs": [
    {
     "data": {
      "text/html": [
       "<div style='display:flex;gap:10px'>\n",
       "                  <div style='display:flex;flex-direction:column;align-items:center;margin-right:10px'>\n",
       "                      <div style='font-weight:bold;margin-bottom:4px;text-align:center'>Reactant<br> Relative Energy: 47.9 kcal/mol</div>\n",
       "                      <div id=\"3dmolviewer_17458520786826887\"  style=\"position: relative; width: 250px; height: 250px;\">\n",
       "        <p id=\"3dmolwarning_17458520786826887\" style=\"background-color:#ffcccc;color:black\">3Dmol.js failed to load for some reason.  Please check your browser console for error messages.<br></p>\n",
       "        </div>\n",
       "<script>\n",
       "\n",
       "var loadScriptAsync = function(uri){\n",
       "  return new Promise((resolve, reject) => {\n",
       "    //this is to ignore the existence of requirejs amd\n",
       "    var savedexports, savedmodule;\n",
       "    if (typeof exports !== 'undefined') savedexports = exports;\n",
       "    else exports = {}\n",
       "    if (typeof module !== 'undefined') savedmodule = module;\n",
       "    else module = {}\n",
       "\n",
       "    var tag = document.createElement('script');\n",
       "    tag.src = uri;\n",
       "    tag.async = true;\n",
       "    tag.onload = () => {\n",
       "        exports = savedexports;\n",
       "        module = savedmodule;\n",
       "        resolve();\n",
       "    };\n",
       "  var firstScriptTag = document.getElementsByTagName('script')[0];\n",
       "  firstScriptTag.parentNode.insertBefore(tag, firstScriptTag);\n",
       "});\n",
       "};\n",
       "\n",
       "if(typeof $3Dmolpromise === 'undefined') {\n",
       "$3Dmolpromise = null;\n",
       "  $3Dmolpromise = loadScriptAsync('https://cdnjs.cloudflare.com/ajax/libs/3Dmol/2.4.2/3Dmol-min.js');\n",
       "}\n",
       "\n",
       "var viewer_17458520786826887 = null;\n",
       "var warn = document.getElementById(\"3dmolwarning_17458520786826887\");\n",
       "if(warn) {\n",
       "    warn.parentNode.removeChild(warn);\n",
       "}\n",
       "$3Dmolpromise.then(function() {\n",
       "viewer_17458520786826887 = $3Dmol.createViewer(document.getElementById(\"3dmolviewer_17458520786826887\"),{backgroundColor:\"white\"});\n",
       "viewer_17458520786826887.zoomTo();\n",
       "\tviewer_17458520786826887.addModel(\"8\\n\\nC 0.8250132507 -0.3044255156 -0.0001793369\\nC -0.0708590455 0.6761106267 -0.0016038483\\nH -2.2168320223 -1.1357962646 0.0051867426\\nH -2.9069107362 -1.4149124935 0.0006665373\\nH 1.2144012074 -0.7244594455 -0.9242788205\\nH 1.2098231719 -0.7260043834 0.9251338654\\nH -0.4588134959 1.0959757755 0.923032473\\nH -0.4554227885 1.0988459975 -0.927032151\\n\",\"xyz\");\n",
       "\tviewer_17458520786826887.setStyle({\"stick\": {\"radius\": 0.2}, \"sphere\": {\"radius\": 0.6}});\n",
       "\tviewer_17458520786826887.zoomTo();\n",
       "viewer_17458520786826887.render();\n",
       "});\n",
       "</script>\n",
       "                  </div>\n",
       "                  \n",
       "                  <div style='display:flex;flex-direction:column;align-items:center;margin-right:10px'>\n",
       "                      <div style='font-weight:bold;margin-bottom:4px;text-align:center'>TS Guess<br> Relative Energy: 129.1 kcal/mol</div>\n",
       "                      <div id=\"3dmolviewer_174585207868281\"  style=\"position: relative; width: 250px; height: 250px;\">\n",
       "        <p id=\"3dmolwarning_174585207868281\" style=\"background-color:#ffcccc;color:black\">3Dmol.js failed to load for some reason.  Please check your browser console for error messages.<br></p>\n",
       "        </div>\n",
       "<script>\n",
       "\n",
       "var loadScriptAsync = function(uri){\n",
       "  return new Promise((resolve, reject) => {\n",
       "    //this is to ignore the existence of requirejs amd\n",
       "    var savedexports, savedmodule;\n",
       "    if (typeof exports !== 'undefined') savedexports = exports;\n",
       "    else exports = {}\n",
       "    if (typeof module !== 'undefined') savedmodule = module;\n",
       "    else module = {}\n",
       "\n",
       "    var tag = document.createElement('script');\n",
       "    tag.src = uri;\n",
       "    tag.async = true;\n",
       "    tag.onload = () => {\n",
       "        exports = savedexports;\n",
       "        module = savedmodule;\n",
       "        resolve();\n",
       "    };\n",
       "  var firstScriptTag = document.getElementsByTagName('script')[0];\n",
       "  firstScriptTag.parentNode.insertBefore(tag, firstScriptTag);\n",
       "});\n",
       "};\n",
       "\n",
       "if(typeof $3Dmolpromise === 'undefined') {\n",
       "$3Dmolpromise = null;\n",
       "  $3Dmolpromise = loadScriptAsync('https://cdnjs.cloudflare.com/ajax/libs/3Dmol/2.4.2/3Dmol-min.js');\n",
       "}\n",
       "\n",
       "var viewer_174585207868281 = null;\n",
       "var warn = document.getElementById(\"3dmolwarning_174585207868281\");\n",
       "if(warn) {\n",
       "    warn.parentNode.removeChild(warn);\n",
       "}\n",
       "$3Dmolpromise.then(function() {\n",
       "viewer_174585207868281 = $3Dmol.createViewer(document.getElementById(\"3dmolviewer_174585207868281\"),{backgroundColor:\"white\"});\n",
       "viewer_174585207868281.zoomTo();\n",
       "\tviewer_174585207868281.addModel(\"8\\n\\nC 0.3502461075222689 -0.6915119922482065 0.034714327220137155\\nC -0.5994011025642767 0.4985364584483653 -0.012025339477599414\\nH -1.267461344546284 -1.338207841515427 0.17849405229832124\\nH -2.0714161125194623 -0.5644600957945816 -0.15073129246562844\\nH 0.7715583275420194 -0.8552180332261772 -0.8749915675379226\\nH 1.0504134846291522 -0.6591965031012532 0.7771095276868434\\nH -0.7321013739330074 1.015635697282308 0.869573317724654\\nH -0.36505756791696403 1.1597722024676902 -0.8212206782100631\\n\",\"xyz\");\n",
       "\tviewer_174585207868281.setStyle({\"stick\": {\"radius\": 0.2}, \"sphere\": {\"radius\": 0.6}});\n",
       "\tviewer_174585207868281.zoomTo();\n",
       "viewer_174585207868281.render();\n",
       "});\n",
       "</script>\n",
       "                  </div>\n",
       "                  \n",
       "                  <div style='display:flex;flex-direction:column;align-items:center;margin-right:10px'>\n",
       "                      <div style='font-weight:bold;margin-bottom:4px;text-align:center'>Product<br> Relative Energy: 0.0 kcal/mol</div>\n",
       "                      <div id=\"3dmolviewer_17458520786829133\"  style=\"position: relative; width: 250px; height: 250px;\">\n",
       "        <p id=\"3dmolwarning_17458520786829133\" style=\"background-color:#ffcccc;color:black\">3Dmol.js failed to load for some reason.  Please check your browser console for error messages.<br></p>\n",
       "        </div>\n",
       "<script>\n",
       "\n",
       "var loadScriptAsync = function(uri){\n",
       "  return new Promise((resolve, reject) => {\n",
       "    //this is to ignore the existence of requirejs amd\n",
       "    var savedexports, savedmodule;\n",
       "    if (typeof exports !== 'undefined') savedexports = exports;\n",
       "    else exports = {}\n",
       "    if (typeof module !== 'undefined') savedmodule = module;\n",
       "    else module = {}\n",
       "\n",
       "    var tag = document.createElement('script');\n",
       "    tag.src = uri;\n",
       "    tag.async = true;\n",
       "    tag.onload = () => {\n",
       "        exports = savedexports;\n",
       "        module = savedmodule;\n",
       "        resolve();\n",
       "    };\n",
       "  var firstScriptTag = document.getElementsByTagName('script')[0];\n",
       "  firstScriptTag.parentNode.insertBefore(tag, firstScriptTag);\n",
       "});\n",
       "};\n",
       "\n",
       "if(typeof $3Dmolpromise === 'undefined') {\n",
       "$3Dmolpromise = null;\n",
       "  $3Dmolpromise = loadScriptAsync('https://cdnjs.cloudflare.com/ajax/libs/3Dmol/2.4.2/3Dmol-min.js');\n",
       "}\n",
       "\n",
       "var viewer_17458520786829133 = null;\n",
       "var warn = document.getElementById(\"3dmolwarning_17458520786829133\");\n",
       "if(warn) {\n",
       "    warn.parentNode.removeChild(warn);\n",
       "}\n",
       "$3Dmolpromise.then(function() {\n",
       "viewer_17458520786829133 = $3Dmol.createViewer(document.getElementById(\"3dmolviewer_17458520786829133\"),{backgroundColor:\"white\"});\n",
       "viewer_17458520786829133.zoomTo();\n",
       "\tviewer_17458520786829133.addModel(\"8\\n\\nC -0.7630691361 -0.0020190208 0.0034566355\\nC 0.7626325757 0.001995053 0.0009730411\\nH -1.1589043116 -0.5118960388 0.8883793728\\nH 1.1613211937 0.5116793524 0.8847263259\\nH -1.1629572511 1.0174805269 0.0041985317\\nH -1.1617577754 -0.5117033851 -0.8802966057\\nH 1.162520682 -1.0175044968 0.0002310876\\nH 1.1584677813 0.51187213 -0.8839496535\\n\",\"xyz\");\n",
       "\tviewer_17458520786829133.setStyle({\"stick\": {\"radius\": 0.2}, \"sphere\": {\"radius\": 0.6}});\n",
       "\tviewer_17458520786829133.zoomTo();\n",
       "viewer_17458520786829133.render();\n",
       "});\n",
       "</script>\n",
       "                  </div>\n",
       "                  </div>"
      ],
      "text/plain": [
       "<IPython.core.display.HTML object>"
      ]
     },
     "execution_count": 9,
     "metadata": {},
     "output_type": "execute_result"
    }
   ],
   "source": [
    "from IPython.display import HTML\n",
    "\n",
    "def snapshot_row(atoms_list, labels=None):\n",
    "    html_str = \"\"\n",
    "    for i, atoms in enumerate(atoms_list):\n",
    "        symbols = atoms.get_chemical_symbols()\n",
    "        positions = atoms.get_positions()\n",
    "\n",
    "        xyz_str = f\"{len(atoms)}\\n\\n\"\n",
    "        for sym, pos in zip(symbols, positions):\n",
    "            xyz_str += f\"{sym} {pos[0]} {pos[1]} {pos[2]}\\n\"\n",
    "\n",
    "        view = py3Dmol.view(width=250, height=250)\n",
    "        view.addModel(xyz_str, 'xyz')\n",
    "        view.setStyle({'stick': {'radius': 0.2}, 'sphere': {'radius': 0.6}})\n",
    "        view.zoomTo()\n",
    "\n",
    "        # Generate label and viewer together\n",
    "        label_text = labels[i] if labels else f\"Frame {i}\"\n",
    "        viewer_html = view._make_html()\n",
    "\n",
    "        # Combine label and viewer in a single column\n",
    "        html_str += f\"\"\"\n",
    "                  <div style='display:flex;flex-direction:column;align-items:center;margin-right:10px'>\n",
    "                      <div style='font-weight:bold;margin-bottom:4px;text-align:center'>{label_text}</div>\n",
    "                      {viewer_html}\n",
    "                  </div>\n",
    "                  \"\"\"\n",
    "\n",
    "\n",
    "    return HTML(f\"<div style='display:flex;gap:10px'>{html_str}</div>\")\n",
    "\n",
    "# Example usage\n",
    "frames_to_show = [all_atoms[0], all_atoms[ts_idx], all_atoms[-1]]\n",
    "custom_labels = ['Reactant<br> Relative Energy: {:.1f} kcal/mol'.format(all_energies[0]),\n",
    "                 'TS Guess<br> Relative Energy: {:.1f} kcal/mol'.format(all_energies[ts_idx]),\n",
    "                 'Product<br> Relative Energy: {:.1f} kcal/mol'.format(all_energies[-1])]\n",
    "snapshot_row(frames_to_show, custom_labels)\n"
   ]
  }
 ],
 "metadata": {
  "accelerator": "GPU",
  "colab": {
   "gpuType": "T4",
   "provenance": []
  },
  "kernelspec": {
   "display_name": "Python 3",
   "name": "python3"
  },
  "language_info": {
   "name": "python"
  }
 },
 "nbformat": 4,
 "nbformat_minor": 0
}
