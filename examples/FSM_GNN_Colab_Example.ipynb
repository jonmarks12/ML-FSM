{
 "cells": [
  {
   "cell_type": "markdown",
   "metadata": {
    "id": "w0QLvXQs3V5U"
   },
   "source": [
    "## Setup"
   ]
  },
  {
   "cell_type": "markdown",
   "metadata": {},
   "source": [
    "## Torch setup\n",
    "Install torch libraries that are needed to run\n",
    "```python\n",
    "import torch\n",
    "\n",
    "import os\n",
    "os.environ[\"TORCH\"] = torch.__version__\n",
    "```\n",
    "\n",
    "```shell\n",
    "!pip install torch_geometric\n",
    "!pip install pytorch-lightning==2.4.0\n",
    "!pip install -q torch-cluster -f https://data.pyg.org/whl/torch-${TORCH}.html\n",
    "```"
   ]
  },
  {
   "cell_type": "markdown",
   "metadata": {},
   "source": [
    "## Other libraries\n",
    "```shell\n",
    "pip install matplotlib py3Dmol ipython\n",
    "```"
   ]
  },
  {
   "cell_type": "code",
   "execution_count": 1,
   "metadata": {
    "colab": {
     "base_uri": "https://localhost:8080/"
    },
    "id": "7x-n1UEKYsz7",
    "outputId": "1dbf6de4-3162-47c1-e8e6-c4431baec0c1"
   },
   "outputs": [],
   "source": [
    "import os\n",
    "import shutil\n",
    "\n",
    "import ase\n",
    "import matplotlib.pyplot as plt\n",
    "import numpy as np\n",
    "import py3Dmol\n",
    "from IPython.display import HTML\n",
    "\n",
    "from mlfsm.cos import FreezingString\n",
    "from mlfsm.geom import calculate_arc_length, project_trans_rot\n",
    "from mlfsm.opt import CartesianOptimizer\n",
    "from mlfsm.utils import load_xyz"
   ]
  },
  {
   "cell_type": "markdown",
   "metadata": {
    "id": "bGeA4P7f2X-o"
   },
   "source": [
    "## Manually load reactant and product"
   ]
  },
  {
   "cell_type": "code",
   "execution_count": 2,
   "metadata": {
    "id": "sqX1AHiFxwBv"
   },
   "outputs": [],
   "source": [
    "reactant = ase.Atoms(\n",
    "    symbols=[\"C\", \"C\", \"H\", \"H\", \"H\", \"H\", \"H\", \"H\"],\n",
    "    positions=[\n",
    "        [-0.7630691361, -0.0020190208, 0.0034566355],\n",
    "        [0.7626325757, 0.0019950530, 0.0009730411],\n",
    "        [-1.1589043116, -0.5118960388, 0.8883793728],\n",
    "        [1.1613211937, 0.5116793524, 0.8847263259],\n",
    "        [-1.1629572511, 1.0174805269, 0.0041985317],\n",
    "        [-1.1617577754, -0.5117033851, -0.8802966057],\n",
    "        [1.1625206820, -1.0175044968, 0.0002310876],\n",
    "        [1.1584677813, 0.5118721300, -0.8839496535],\n",
    "    ],\n",
    ")\n",
    "product = ase.Atoms(\n",
    "    symbols=[\"C\", \"C\", \"H\", \"H\", \"H\", \"H\", \"H\", \"H\"],\n",
    "    positions=[\n",
    "        [0.8250132507, -0.3044255156, -0.0001793369],\n",
    "        [-0.0708590455, 0.6761106267, -0.0016038483],\n",
    "        [-2.2168320223, -1.1357962646, 0.0051867426],\n",
    "        [-2.9069107362, -1.4149124935, 0.0006665373],\n",
    "        [1.2144012074, -0.7244594455, -0.9242788205],\n",
    "        [1.2098231719, -0.7260043834, 0.9251338654],\n",
    "        [-0.4588134959, 1.0959757755, 0.9230324730],\n",
    "        [-0.4554227885, 1.0988459975, -0.9270321510],\n",
    "    ],\n",
    ")\n",
    "# align product to reactant structure\n",
    "_, aligned_product = project_trans_rot(reactant.get_positions(), product.get_positions())\n",
    "product.set_positions(aligned_product.reshape(-1, 3))\n",
    "\n",
    "\n",
    "# alternatively load one of the reactions in our benchmark set\n",
    "# this loads the reactant and product structures and performs the alignment\n",
    "reactant, product = load_xyz(\"data/06_diels_alder/\")"
   ]
  },
  {
   "cell_type": "markdown",
   "metadata": {
    "id": "HeDzIcpp2gUq"
   },
   "source": [
    "# Run FSM"
   ]
  },
  {
   "cell_type": "code",
   "execution_count": 3,
   "metadata": {
    "colab": {
     "base_uri": "https://localhost:8080/"
    },
    "id": "VX83ack6b-lg",
    "outputId": "5b552529-88c8-4351-8c74-94eab5c61748"
   },
   "outputs": [
    {
     "name": "stderr",
     "output_type": "stream",
     "text": [
      "Lightning automatically upgraded your loaded checkpoint from v1.5.9 to v2.5.2. To apply the upgrade to your files permanently, run `python -m pytorch_lightning.utilities.upgrade_checkpoint pre_trained_gnns/schnet_fine_tuned.ckpt`\n",
      "/home/jevandezande/progs/ML-FSM/.pixi/envs/dev/lib/python3.12/site-packages/pytorch_lightning/core/saving.py:195: Found keys that are not in the model state dict but in the checkpoint: ['model.atomic_mass']\n"
     ]
    },
    {
     "name": "stdout",
     "output_type": "stream",
     "text": [
      "NNODES_MIN: 18\n",
      "DIST: 5.693 STEPSIZE: 0.316\n",
      "ITERATION: 1 DIST: 4.81 ENERGY: [2.4 2.2 0.4 0.0]\n",
      "ITERATION: 2 DIST: 4.23 ENERGY: [2.4 2.2 2.2 1.3 0.4 0.0]\n",
      "ITERATION: 3 DIST: 3.61 ENERGY: [2.4 2.2 2.2 2.2 2.1 1.3 0.4 0.0]\n",
      "ITERATION: 4 DIST: 3.01 ENERGY: [2.4 2.2 2.2 2.2 2.3 3.1 2.1 1.3 0.4 0.0]\n",
      "ITERATION: 5 DIST: 2.39 ENERGY: [2.4 2.2 2.2 2.2 2.3 2.3 4.4 3.1 2.1 1.3 0.4 0.0]\n",
      "ITERATION: 6 DIST: 1.77 ENERGY: [2.4 2.2 2.2 2.2 2.3 2.3 2.5 4.7 4.4 3.1 2.1 1.3 0.4 0.0]\n",
      "ITERATION: 7 DIST: 1.17 ENERGY: [2.4 2.2 2.2 2.2 2.3 2.3 2.5 2.6 4.1 4.7 4.4 3.1 2.1 1.3 0.4 0.0]\n",
      "ITERATION: 8 DIST: 0.56 ENERGY: [2.4 2.2 2.2 2.2 2.3 2.3 2.5 2.6 2.5 3.1 4.1 4.7 4.4 3.1 2.1 1.3 0.4 0.0]\n",
      "ITERATION: 9 DIST: 0.23 ENERGY: [2.4 2.2 2.2 2.2 2.3 2.3 2.5 2.6 2.5 2.7 3.1 4.1 4.7 4.4 3.1 2.1 1.3 0.4\n",
      " 0.0]\n",
      "Gradient calls: 52\n"
     ]
    }
   ],
   "source": [
    "from schnet_ase_calculator import SchNetCalculator\n",
    "\n",
    "# parameters\n",
    "nnodes_min = 18\n",
    "interp = \"ric\"\n",
    "ninterp = 50\n",
    "method = \"L-BFGS-B\"\n",
    "maxiter = 1\n",
    "maxls = 3\n",
    "dmax = 0.3\n",
    "\n",
    "# name the create output folder\n",
    "run_name = \"FSM_run\"\n",
    "outdir = f\"{run_name}_Nodes_{nnodes_min}_interp_{interp}_maxiter_{maxiter}_maxls_{maxls}\"\n",
    "if not os.path.exists(outdir):\n",
    "    os.makedirs(outdir)\n",
    "else:\n",
    "    shutil.rmtree(outdir)\n",
    "    os.makedirs(outdir)\n",
    "\n",
    "# load calculator\n",
    "ckpt = \"pre_trained_gnns/schnet_fine_tuned.ckpt\"\n",
    "\n",
    "calc = SchNetCalculator(checkpoint=ckpt)\n",
    "\n",
    "# string class\n",
    "string = FreezingString(reactant, product, nnodes_min, interp, ninterp)\n",
    "\n",
    "# optimizer class\n",
    "optimizer = CartesianOptimizer(calc, method, maxiter, maxls, dmax)\n",
    "\n",
    "# run\n",
    "while string.growing:\n",
    "    string.grow()\n",
    "    string.optimize(optimizer)\n",
    "    string.write(outdir)\n",
    "print(\"Gradient calls:\", string.ngrad)"
   ]
  },
  {
   "cell_type": "markdown",
   "metadata": {
    "id": "VDaxz_CN2rSZ"
   },
   "source": [
    "## Plotting and Visualization"
   ]
  },
  {
   "cell_type": "code",
   "execution_count": 4,
   "metadata": {
    "id": "ybfqXaWKchKX"
   },
   "outputs": [],
   "source": [
    "all_atoms = string.r_string + string.p_string[::-1]\n",
    "all_energies = np.array(string.r_energy + string.p_energy[::-1])\n",
    "all_energies = all_energies - min(all_energies)\n",
    "ts_idx = all_energies.argmax()\n",
    "path = [structure.get_positions() for structure in all_atoms]\n",
    "s = calculate_arc_length(np.array(path))"
   ]
  },
  {
   "cell_type": "code",
   "execution_count": 5,
   "metadata": {
    "colab": {
     "base_uri": "https://localhost:8080/",
     "height": 451
    },
    "id": "f2RjahXmTRRq",
    "outputId": "c9eeac7f-77b8-47f3-be3f-1ba13d0ff6f1"
   },
   "outputs": [
    {
     "data": {
      "image/png": "[encoded data removed]",
      "text/plain": [
       "<Figure size 640x480 with 1 Axes>"
      ]
     },
     "metadata": {},
     "output_type": "display_data"
    }
   ],
   "source": [
    "fig, ax = plt.subplots()\n",
    "ax.plot(s, all_energies, label=\"FSM Path\")\n",
    "ax.scatter(s[ts_idx], all_energies[ts_idx], color=\"red\", label=\"TS Guess\")\n",
    "ax.scatter(s[0], all_energies[0], color=\"black\", label=\"Reactant/Product\")\n",
    "ax.scatter(s[-1], all_energies[-1], color=\"black\")\n",
    "ax.set_xlabel(\"Arclength (Å)\")\n",
    "ax.set_ylabel(\"Energy (eV)\")\n",
    "_ = ax.legend()"
   ]
  },
  {
   "cell_type": "code",
   "execution_count": 6,
   "metadata": {
    "colab": {
     "base_uri": "https://localhost:8080/",
     "height": 305
    },
    "id": "437ie0q2O7bZ",
    "outputId": "fe0e07e8-d029-49e8-f615-8a9312033075"
   },
   "outputs": [
    {
     "data": {
      "text/html": [
       "<div style='display:flex;gap:10px'>\n",
       "<div style='display:flex;flex-direction:column;align-items:center;margin-right:10px'>\n",
       "    <div style='font-weight:bold;margin-bottom:4px;text-align:center'>Reactant<br> Relative Energy: 2.4 eV</div>\n",
       "    <div id=\"3dmolviewer_17522470684344404\"  style=\"position: relative; width: 250px; height: 250px;\">\n",
       "        <p id=\"3dmolwarning_17522470684344404\" style=\"background-color:#ffcccc;color:black\">3Dmol.js failed to load for some reason.  Please check your browser console for error messages.<br></p>\n",
       "        </div>\n",
       "<script>\n",
       "\n",
       "var loadScriptAsync = function(uri){\n",
       "  return new Promise((resolve, reject) => {\n",
       "    //this is to ignore the existence of requirejs amd\n",
       "    var savedexports, savedmodule;\n",
       "    if (typeof exports !== 'undefined') savedexports = exports;\n",
       "    else exports = {}\n",
       "    if (typeof module !== 'undefined') savedmodule = module;\n",
       "    else module = {}\n",
       "\n",
       "    var tag = document.createElement('script');\n",
       "    tag.src = uri;\n",
       "    tag.async = true;\n",
       "    tag.onload = () => {\n",
       "        exports = savedexports;\n",
       "        module = savedmodule;\n",
       "        resolve();\n",
       "    };\n",
       "  var firstScriptTag = document.getElementsByTagName('script')[0];\n",
       "  firstScriptTag.parentNode.insertBefore(tag, firstScriptTag);\n",
       "});\n",
       "};\n",
       "\n",
       "if(typeof $3Dmolpromise === 'undefined') {\n",
       "$3Dmolpromise = null;\n",
       "  $3Dmolpromise = loadScriptAsync('https://cdn.jsdelivr.net/npm/3dmol@2.5.1/build/3Dmol-min.js');\n",
       "}\n",
       "\n",
       "var viewer_17522470684344404 = null;\n",
       "var warn = document.getElementById(\"3dmolwarning_17522470684344404\");\n",
       "if(warn) {\n",
       "    warn.parentNode.removeChild(warn);\n",
       "}\n",
       "$3Dmolpromise.then(function() {\n",
       "viewer_17522470684344404 = $3Dmol.createViewer(document.getElementById(\"3dmolviewer_17522470684344404\"),{backgroundColor:\"white\"});\n",
       "viewer_17522470684344404.zoomTo();\n",
       "\tviewer_17522470684344404.addModel(\"16\\n\\nC -0.616734437 -1.522942512 0.4053396301\\nC -1.5034534892 1.3966194097 0.5512899434\\nC -1.7608854067 0.527729432 -0.4272344455\\nC -1.5525309309 -0.9293628599 -0.3371906069\\nC 2.841158501 -0.3182844632 0.0093719154\\nC 2.1860819896 0.7984184542 -0.2864252682\\nH -2.1665530944 0.8976569653 -1.3689452889\\nH -2.214962094 -1.5456821227 -0.944647058\\nH -0.5309376223 -2.605415 0.4434040701\\nH -1.6564762015 2.4642385826 0.4204361079\\nH 0.096110885 -0.9474397197 0.9924330734\\nH -1.1410426503 1.0654309294 1.5221361747\\nH 2.3714985264 -1.2950168156 -0.0845281691\\nH 1.154099282 0.7840119322 -0.6306920806\\nH 3.8713938356 -0.3066537106 0.3577512455\\nH 2.6550517725 1.7758041942 -0.1982550851\",\"xyz\");\n",
       "\tviewer_17522470684344404.setStyle({\"stick\": {\"radius\": 0.2}, \"sphere\": {\"radius\": 0.6}});\n",
       "\tviewer_17522470684344404.zoomTo();\n",
       "viewer_17522470684344404.render();\n",
       "});\n",
       "</script>\n",
       "</div>\n",
       "<div style='display:flex;flex-direction:column;align-items:center;margin-right:10px'>\n",
       "    <div style='font-weight:bold;margin-bottom:4px;text-align:center'>TS Guess<br> Relative Energy: 4.7 eV</div>\n",
       "    <div id=\"3dmolviewer_17522470684345057\"  style=\"position: relative; width: 250px; height: 250px;\">\n",
       "        <p id=\"3dmolwarning_17522470684345057\" style=\"background-color:#ffcccc;color:black\">3Dmol.js failed to load for some reason.  Please check your browser console for error messages.<br></p>\n",
       "        </div>\n",
       "<script>\n",
       "\n",
       "var loadScriptAsync = function(uri){\n",
       "  return new Promise((resolve, reject) => {\n",
       "    //this is to ignore the existence of requirejs amd\n",
       "    var savedexports, savedmodule;\n",
       "    if (typeof exports !== 'undefined') savedexports = exports;\n",
       "    else exports = {}\n",
       "    if (typeof module !== 'undefined') savedmodule = module;\n",
       "    else module = {}\n",
       "\n",
       "    var tag = document.createElement('script');\n",
       "    tag.src = uri;\n",
       "    tag.async = true;\n",
       "    tag.onload = () => {\n",
       "        exports = savedexports;\n",
       "        module = savedmodule;\n",
       "        resolve();\n",
       "    };\n",
       "  var firstScriptTag = document.getElementsByTagName('script')[0];\n",
       "  firstScriptTag.parentNode.insertBefore(tag, firstScriptTag);\n",
       "});\n",
       "};\n",
       "\n",
       "if(typeof $3Dmolpromise === 'undefined') {\n",
       "$3Dmolpromise = null;\n",
       "  $3Dmolpromise = loadScriptAsync('https://cdn.jsdelivr.net/npm/3dmol@2.5.1/build/3Dmol-min.js');\n",
       "}\n",
       "\n",
       "var viewer_17522470684345057 = null;\n",
       "var warn = document.getElementById(\"3dmolwarning_17522470684345057\");\n",
       "if(warn) {\n",
       "    warn.parentNode.removeChild(warn);\n",
       "}\n",
       "$3Dmolpromise.then(function() {\n",
       "viewer_17522470684345057 = $3Dmol.createViewer(document.getElementById(\"3dmolviewer_17522470684345057\"),{backgroundColor:\"white\"});\n",
       "viewer_17522470684345057.zoomTo();\n",
       "\tviewer_17522470684345057.addModel(\"16\\n\\nC 0.036145813488346376 -1.4778577682608187 0.05432143779931668\\nC -0.5737053754693449 1.46126383515535 0.21083196970162993\\nC -1.4804393646353304 0.4594646993047177 -0.12389427395997647\\nC -1.2082118389242709 -0.8783640268212736 -0.11564974099803071\\nC 1.7694670560723722 -0.35577973695932036 0.31939843324484224\\nC 1.3678840016754492 0.8777135607832491 -0.20514710220037108\\nH -2.489262759410721 0.7090407933977566 -0.45631554582774325\\nH -2.06933325501619 -1.4794757464532844 -0.3651816842312718\\nH 0.054167568958419524 -2.3398730156057894 -0.609497248851639\\nH -0.908639847957474 2.4105896350973666 -0.21240791650949126\\nH 0.12174725391596851 -1.8277451398736417 1.0740474617286726\\nH -0.48692390824898324 1.6438828107946932 1.2934393283957064\\nH 2.359487712108475 -1.167937099658829 -0.21233125058473942\\nH 1.0755453180488845 0.7666708653104233 -1.2425226571923673\\nH 2.3893112537497103 -0.25585403933763834 1.2257375118368685\\nH 2.107334792339188 1.6782112714880526 -0.17750671478448515\",\"xyz\");\n",
       "\tviewer_17522470684345057.setStyle({\"stick\": {\"radius\": 0.2}, \"sphere\": {\"radius\": 0.6}});\n",
       "\tviewer_17522470684345057.zoomTo();\n",
       "viewer_17522470684345057.render();\n",
       "});\n",
       "</script>\n",
       "</div>\n",
       "<div style='display:flex;flex-direction:column;align-items:center;margin-right:10px'>\n",
       "    <div style='font-weight:bold;margin-bottom:4px;text-align:center'>Product<br> Relative Energy: 0.0 eV</div>\n",
       "    <div id=\"3dmolviewer_17522470684345615\"  style=\"position: relative; width: 250px; height: 250px;\">\n",
       "        <p id=\"3dmolwarning_17522470684345615\" style=\"background-color:#ffcccc;color:black\">3Dmol.js failed to load for some reason.  Please check your browser console for error messages.<br></p>\n",
       "        </div>\n",
       "<script>\n",
       "\n",
       "var loadScriptAsync = function(uri){\n",
       "  return new Promise((resolve, reject) => {\n",
       "    //this is to ignore the existence of requirejs amd\n",
       "    var savedexports, savedmodule;\n",
       "    if (typeof exports !== 'undefined') savedexports = exports;\n",
       "    else exports = {}\n",
       "    if (typeof module !== 'undefined') savedmodule = module;\n",
       "    else module = {}\n",
       "\n",
       "    var tag = document.createElement('script');\n",
       "    tag.src = uri;\n",
       "    tag.async = true;\n",
       "    tag.onload = () => {\n",
       "        exports = savedexports;\n",
       "        module = savedmodule;\n",
       "        resolve();\n",
       "    };\n",
       "  var firstScriptTag = document.getElementsByTagName('script')[0];\n",
       "  firstScriptTag.parentNode.insertBefore(tag, firstScriptTag);\n",
       "});\n",
       "};\n",
       "\n",
       "if(typeof $3Dmolpromise === 'undefined') {\n",
       "$3Dmolpromise = null;\n",
       "  $3Dmolpromise = loadScriptAsync('https://cdn.jsdelivr.net/npm/3dmol@2.5.1/build/3Dmol-min.js');\n",
       "}\n",
       "\n",
       "var viewer_17522470684345615 = null;\n",
       "var warn = document.getElementById(\"3dmolwarning_17522470684345615\");\n",
       "if(warn) {\n",
       "    warn.parentNode.removeChild(warn);\n",
       "}\n",
       "$3Dmolpromise.then(function() {\n",
       "viewer_17522470684345615 = $3Dmol.createViewer(document.getElementById(\"3dmolviewer_17522470684345615\"),{backgroundColor:\"white\"});\n",
       "viewer_17522470684345615.zoomTo();\n",
       "\tviewer_17522470684345615.addModel(\"16\\n\\nC 0.2586031669513067 -1.4815782025140836 -0.0541563491085196\\nC -0.2874605172225332 1.4594708570132224 0.10165041163653268\\nC -1.373355889398088 0.4147196874812736 0.05135569859975435\\nC -1.129062087394164 -0.8925704373614916 -0.035094554202222544\\nC 1.3146555532599866 -0.4619308451226858 0.3800763238380704\\nC 1.0735821642496393 0.8853991718953116 -0.2996543888635501\\nH -2.403642306204817 0.76719341585761 0.08650463105708127\\nH -1.9636584727087294 -1.5906690811708555 -0.09033773428698179\\nH 0.48334265002110743 -1.8521629159371817 -1.0655267935364483\\nH -0.5536741300126719 2.299544759390607 -0.5530311288764533\\nH 0.29248439080480126 -2.3635326582083964 0.5987163118026713\\nH -0.23227124748935749 1.880555974390432 1.1169938568809716\\nH 2.31913904833337 -0.8395245455961494 0.15549964803652208\\nH 1.1018113787236088 0.748433757004014 -1.3894184971382102\\nH 1.2602513172598266 -0.3288911175616654 1.4693001728044308\\nH 1.8710738466267123 1.5946548763400397 -0.04863345044364928\",\"xyz\");\n",
       "\tviewer_17522470684345615.setStyle({\"stick\": {\"radius\": 0.2}, \"sphere\": {\"radius\": 0.6}});\n",
       "\tviewer_17522470684345615.zoomTo();\n",
       "viewer_17522470684345615.render();\n",
       "});\n",
       "</script>\n",
       "</div></div>"
      ],
      "text/plain": [
       "<IPython.core.display.HTML object>"
      ]
     },
     "execution_count": 6,
     "metadata": {},
     "output_type": "execute_result"
    }
   ],
   "source": [
    "def snapshot_row(atoms_list: list[ase.Atoms], labels: list[str] | None = None) -> HTML:\n",
    "    \"\"\"Show selected structures.\"\"\"\n",
    "    html = []\n",
    "    for i, atoms in enumerate(atoms_list):\n",
    "        symbols = atoms.get_chemical_symbols()\n",
    "        positions = atoms.get_positions()\n",
    "\n",
    "        xyz_str = f\"{len(atoms)}\\n\\n\" + \"\\n\".join(\n",
    "            f\"{sym} {x} {y} {z}\" for sym, (x, y, z) in zip(symbols, positions, strict=True)\n",
    "        )\n",
    "\n",
    "        view = py3Dmol.view(width=250, height=250)\n",
    "        view.addModel(xyz_str, \"xyz\")\n",
    "        view.setStyle({\"stick\": {\"radius\": 0.2}, \"sphere\": {\"radius\": 0.6}})\n",
    "        view.zoomTo()\n",
    "\n",
    "        # Generate label and viewer together\n",
    "        label_text = labels[i] if labels else f\"Frame {i}\"\n",
    "        viewer_html = view._make_html()\n",
    "\n",
    "        # Combine label and viewer in a single column\n",
    "        html.append(\n",
    "            f\"\"\"\n",
    "<div style='display:flex;flex-direction:column;align-items:center;margin-right:10px'>\n",
    "    <div style='font-weight:bold;margin-bottom:4px;text-align:center'>{label_text}</div>\n",
    "    {viewer_html}\n",
    "</div>\"\"\"\n",
    "        )\n",
    "\n",
    "    return HTML(f\"<div style='display:flex;gap:10px'>{''.join(html)}</div>\")\n",
    "\n",
    "\n",
    "# Example usage\n",
    "frames_to_show = [all_atoms[0], all_atoms[ts_idx], all_atoms[-1]]\n",
    "custom_labels = [\n",
    "    \"Reactant<br> Relative Energy: {:.1f} eV\".format(all_energies[0]),\n",
    "    \"TS Guess<br> Relative Energy: {:.1f} eV\".format(all_energies[ts_idx]),\n",
    "    \"Product<br> Relative Energy: {:.1f} eV\".format(all_energies[-1]),\n",
    "]\n",
    "snapshot_row(frames_to_show, custom_labels)"
   ]
  }
 ],
 "metadata": {
  "colab": {
   "provenance": []
  },
  "kernelspec": {
   "display_name": "Python 3 (ipykernel)",
   "language": "python",
   "name": "python3"
  },
  "language_info": {
   "codemirror_mode": {
    "name": "ipython",
    "version": 3
   },
   "file_extension": ".py",
   "mimetype": "text/x-python",
   "name": "python",
   "nbconvert_exporter": "python",
   "pygments_lexer": "ipython3",
   "version": "3.12.11"
  }
 },
 "nbformat": 4,
 "nbformat_minor": 4
}
