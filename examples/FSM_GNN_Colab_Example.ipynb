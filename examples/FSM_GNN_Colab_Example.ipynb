{
  "cells": [
    {
      "cell_type": "markdown",
      "metadata": {
        "id": "w0QLvXQs3V5U"
      },
      "source": [
        "## Setup"
      ]
    },
    {
      "cell_type": "code",
      "execution_count": 1,
      "metadata": {
        "colab": {
          "base_uri": "https://localhost:8080/"
        },
        "id": "z9qvDkkGD40Y",
        "outputId": "e3acbd44-df95-4585-ece8-276fc30c8982"
      },
      "outputs": [
        {
          "output_type": "stream",
          "name": "stdout",
          "text": [
            "fatal: destination path 'ML-FSM' already exists and is not an empty directory.\n",
            "/content/ML-FSM\n",
            "Processing /content/ML-FSM\n",
            "  Installing build dependencies ... \u001b[?25l\u001b[?25hdone\n",
            "  Getting requirements to build wheel ... \u001b[?25l\u001b[?25hdone\n",
            "  Preparing metadata (pyproject.toml) ... \u001b[?25l\u001b[?25hdone\n",
            "Requirement already satisfied: ase>=3.22 in /usr/local/lib/python3.11/dist-packages (from mlfsm==0.0.1) (3.25.0)\n",
            "Requirement already satisfied: geometric>=1.0.0 in /usr/local/lib/python3.11/dist-packages (from mlfsm==0.0.1) (1.1)\n",
            "Requirement already satisfied: networkx>=3.0 in /usr/local/lib/python3.11/dist-packages (from mlfsm==0.0.1) (3.5)\n",
            "Requirement already satisfied: numpy>=1.26 in /usr/local/lib/python3.11/dist-packages (from mlfsm==0.0.1) (2.0.2)\n",
            "Requirement already satisfied: scipy>=1.13 in /usr/local/lib/python3.11/dist-packages (from mlfsm==0.0.1) (1.15.3)\n",
            "Requirement already satisfied: typing-extensions>=4.0 in /usr/local/lib/python3.11/dist-packages (from mlfsm==0.0.1) (4.14.0)\n",
            "Requirement already satisfied: matplotlib>=3.3.4 in /usr/local/lib/python3.11/dist-packages (from ase>=3.22->mlfsm==0.0.1) (3.10.0)\n",
            "Requirement already satisfied: six in /usr/local/lib/python3.11/dist-packages (from geometric>=1.0.0->mlfsm==0.0.1) (1.17.0)\n",
            "Requirement already satisfied: contourpy>=1.0.1 in /usr/local/lib/python3.11/dist-packages (from matplotlib>=3.3.4->ase>=3.22->mlfsm==0.0.1) (1.3.2)\n",
            "Requirement already satisfied: cycler>=0.10 in /usr/local/lib/python3.11/dist-packages (from matplotlib>=3.3.4->ase>=3.22->mlfsm==0.0.1) (0.12.1)\n",
            "Requirement already satisfied: fonttools>=4.22.0 in /usr/local/lib/python3.11/dist-packages (from matplotlib>=3.3.4->ase>=3.22->mlfsm==0.0.1) (4.58.4)\n",
            "Requirement already satisfied: kiwisolver>=1.3.1 in /usr/local/lib/python3.11/dist-packages (from matplotlib>=3.3.4->ase>=3.22->mlfsm==0.0.1) (1.4.8)\n",
            "Requirement already satisfied: packaging>=20.0 in /usr/local/lib/python3.11/dist-packages (from matplotlib>=3.3.4->ase>=3.22->mlfsm==0.0.1) (24.2)\n",
            "Requirement already satisfied: pillow>=8 in /usr/local/lib/python3.11/dist-packages (from matplotlib>=3.3.4->ase>=3.22->mlfsm==0.0.1) (11.2.1)\n",
            "Requirement already satisfied: pyparsing>=2.3.1 in /usr/local/lib/python3.11/dist-packages (from matplotlib>=3.3.4->ase>=3.22->mlfsm==0.0.1) (3.2.3)\n",
            "Requirement already satisfied: python-dateutil>=2.7 in /usr/local/lib/python3.11/dist-packages (from matplotlib>=3.3.4->ase>=3.22->mlfsm==0.0.1) (2.9.0.post0)\n",
            "Building wheels for collected packages: mlfsm\n",
            "  Building wheel for mlfsm (pyproject.toml) ... \u001b[?25l\u001b[?25hdone\n",
            "  Created wheel for mlfsm: filename=mlfsm-0.0.1-py3-none-any.whl size=17723 sha256=e059c1b256589fcd9905e279ab9386feb9c6e3536a629ea4ed0f3bfbe17f8376\n",
            "  Stored in directory: /root/.cache/pip/wheels/56/36/fa/fdcdae831afe459322dc26a7d245e75ad58479b41970a39e35\n",
            "Successfully built mlfsm\n",
            "Installing collected packages: mlfsm\n",
            "  Attempting uninstall: mlfsm\n",
            "    Found existing installation: mlfsm 0.0.1\n",
            "    Uninstalling mlfsm-0.0.1:\n",
            "      Successfully uninstalled mlfsm-0.0.1\n",
            "Successfully installed mlfsm-0.0.1\n"
          ]
        }
      ],
      "source": [
        "#install mlfsm package\n",
        "!git clone https://github.com/jonmarks12/ML-FSM.git\n",
        "%cd ML-FSM\n",
        "!pip install .\n",
        "import sys\n",
        "sys.path.append('/content/ML-FSM')"
      ]
    },
    {
      "cell_type": "code",
      "source": [
        "#other installs and imports\n",
        "!pip install py3Dmol\n",
        "import py3Dmol\n",
        "import ipywidgets as widgets\n",
        "from IPython.display import display\n",
        "from IPython.display import HTML\n",
        "import matplotlib.pyplot as plt\n",
        "import ase\n",
        "import shutil\n",
        "import numpy as np\n",
        "import os\n",
        "\n",
        "from mlfsm.utils import load_xyz\n",
        "from mlfsm.cos import FreezingString\n",
        "from mlfsm.geom import calculate_arc_length, project_trans_rot\n",
        "from mlfsm.opt import CartesianOptimizer, InternalsOptimizer"
      ],
      "metadata": {
        "id": "7x-n1UEKYsz7",
        "outputId": "1dbf6de4-3162-47c1-e8e6-c4431baec0c1",
        "colab": {
          "base_uri": "https://localhost:8080/"
        }
      },
      "execution_count": 10,
      "outputs": [
        {
          "output_type": "stream",
          "name": "stdout",
          "text": [
            "Requirement already satisfied: py3Dmol in /usr/local/lib/python3.11/dist-packages (2.5.1)\n"
          ]
        }
      ]
    },
    {
      "cell_type": "code",
      "source": [
        "%cd /content/ML-FSM/examples/"
      ],
      "metadata": {
        "id": "tAlJT7nniYBY",
        "outputId": "265fe7fa-c7f3-4731-8f79-3c7f7ef759f5",
        "colab": {
          "base_uri": "https://localhost:8080/"
        }
      },
      "execution_count": 3,
      "outputs": [
        {
          "output_type": "stream",
          "name": "stdout",
          "text": [
            "/content/ML-FSM/examples\n"
          ]
        }
      ]
    },
    {
      "cell_type": "code",
      "source": [
        "import torch\n",
        "os.environ['TORCH'] = torch.__version__\n",
        "!pip install pytorch-lightning==2.4.0\n",
        "!pip install -q torch-cluster -f https://data.pyg.org/whl/torch-${TORCH}.html\n",
        "\n",
        "!pip install torch_geometric"
      ],
      "metadata": {
        "id": "FSKz6vsQdF01",
        "outputId": "a95c9b6a-a8fb-4faf-e10a-b6153cfb37af",
        "colab": {
          "base_uri": "https://localhost:8080/"
        }
      },
      "execution_count": 4,
      "outputs": [
        {
          "output_type": "stream",
          "name": "stdout",
          "text": [
            "Requirement already satisfied: pytorch-lightning==2.4.0 in /usr/local/lib/python3.11/dist-packages (2.4.0)\n",
            "Requirement already satisfied: torch>=2.1.0 in /usr/local/lib/python3.11/dist-packages (from pytorch-lightning==2.4.0) (2.6.0+cu124)\n",
            "Requirement already satisfied: tqdm>=4.57.0 in /usr/local/lib/python3.11/dist-packages (from pytorch-lightning==2.4.0) (4.67.1)\n",
            "Requirement already satisfied: PyYAML>=5.4 in /usr/local/lib/python3.11/dist-packages (from pytorch-lightning==2.4.0) (6.0.2)\n",
            "Requirement already satisfied: fsspec>=2022.5.0 in /usr/local/lib/python3.11/dist-packages (from fsspec[http]>=2022.5.0->pytorch-lightning==2.4.0) (2025.3.2)\n",
            "Requirement already satisfied: torchmetrics>=0.7.0 in /usr/local/lib/python3.11/dist-packages (from pytorch-lightning==2.4.0) (1.7.4)\n",
            "Requirement already satisfied: packaging>=20.0 in /usr/local/lib/python3.11/dist-packages (from pytorch-lightning==2.4.0) (24.2)\n",
            "Requirement already satisfied: typing-extensions>=4.4.0 in /usr/local/lib/python3.11/dist-packages (from pytorch-lightning==2.4.0) (4.14.0)\n",
            "Requirement already satisfied: lightning-utilities>=0.10.0 in /usr/local/lib/python3.11/dist-packages (from pytorch-lightning==2.4.0) (0.14.3)\n",
            "Requirement already satisfied: aiohttp!=4.0.0a0,!=4.0.0a1 in /usr/local/lib/python3.11/dist-packages (from fsspec[http]>=2022.5.0->pytorch-lightning==2.4.0) (3.11.15)\n",
            "Requirement already satisfied: setuptools in /usr/local/lib/python3.11/dist-packages (from lightning-utilities>=0.10.0->pytorch-lightning==2.4.0) (75.2.0)\n",
            "Requirement already satisfied: filelock in /usr/local/lib/python3.11/dist-packages (from torch>=2.1.0->pytorch-lightning==2.4.0) (3.18.0)\n",
            "Requirement already satisfied: networkx in /usr/local/lib/python3.11/dist-packages (from torch>=2.1.0->pytorch-lightning==2.4.0) (3.5)\n",
            "Requirement already satisfied: jinja2 in /usr/local/lib/python3.11/dist-packages (from torch>=2.1.0->pytorch-lightning==2.4.0) (3.1.6)\n",
            "Requirement already satisfied: nvidia-cuda-nvrtc-cu12==12.4.127 in /usr/local/lib/python3.11/dist-packages (from torch>=2.1.0->pytorch-lightning==2.4.0) (12.4.127)\n",
            "Requirement already satisfied: nvidia-cuda-runtime-cu12==12.4.127 in /usr/local/lib/python3.11/dist-packages (from torch>=2.1.0->pytorch-lightning==2.4.0) (12.4.127)\n",
            "Requirement already satisfied: nvidia-cuda-cupti-cu12==12.4.127 in /usr/local/lib/python3.11/dist-packages (from torch>=2.1.0->pytorch-lightning==2.4.0) (12.4.127)\n",
            "Requirement already satisfied: nvidia-cudnn-cu12==9.1.0.70 in /usr/local/lib/python3.11/dist-packages (from torch>=2.1.0->pytorch-lightning==2.4.0) (9.1.0.70)\n",
            "Requirement already satisfied: nvidia-cublas-cu12==12.4.5.8 in /usr/local/lib/python3.11/dist-packages (from torch>=2.1.0->pytorch-lightning==2.4.0) (12.4.5.8)\n",
            "Requirement already satisfied: nvidia-cufft-cu12==11.2.1.3 in /usr/local/lib/python3.11/dist-packages (from torch>=2.1.0->pytorch-lightning==2.4.0) (11.2.1.3)\n",
            "Requirement already satisfied: nvidia-curand-cu12==10.3.5.147 in /usr/local/lib/python3.11/dist-packages (from torch>=2.1.0->pytorch-lightning==2.4.0) (10.3.5.147)\n",
            "Requirement already satisfied: nvidia-cusolver-cu12==11.6.1.9 in /usr/local/lib/python3.11/dist-packages (from torch>=2.1.0->pytorch-lightning==2.4.0) (11.6.1.9)\n",
            "Requirement already satisfied: nvidia-cusparse-cu12==12.3.1.170 in /usr/local/lib/python3.11/dist-packages (from torch>=2.1.0->pytorch-lightning==2.4.0) (12.3.1.170)\n",
            "Requirement already satisfied: nvidia-cusparselt-cu12==0.6.2 in /usr/local/lib/python3.11/dist-packages (from torch>=2.1.0->pytorch-lightning==2.4.0) (0.6.2)\n",
            "Requirement already satisfied: nvidia-nccl-cu12==2.21.5 in /usr/local/lib/python3.11/dist-packages (from torch>=2.1.0->pytorch-lightning==2.4.0) (2.21.5)\n",
            "Requirement already satisfied: nvidia-nvtx-cu12==12.4.127 in /usr/local/lib/python3.11/dist-packages (from torch>=2.1.0->pytorch-lightning==2.4.0) (12.4.127)\n",
            "Requirement already satisfied: nvidia-nvjitlink-cu12==12.4.127 in /usr/local/lib/python3.11/dist-packages (from torch>=2.1.0->pytorch-lightning==2.4.0) (12.4.127)\n",
            "Requirement already satisfied: triton==3.2.0 in /usr/local/lib/python3.11/dist-packages (from torch>=2.1.0->pytorch-lightning==2.4.0) (3.2.0)\n",
            "Requirement already satisfied: sympy==1.13.1 in /usr/local/lib/python3.11/dist-packages (from torch>=2.1.0->pytorch-lightning==2.4.0) (1.13.1)\n",
            "Requirement already satisfied: mpmath<1.4,>=1.1.0 in /usr/local/lib/python3.11/dist-packages (from sympy==1.13.1->torch>=2.1.0->pytorch-lightning==2.4.0) (1.3.0)\n",
            "Requirement already satisfied: numpy>1.20.0 in /usr/local/lib/python3.11/dist-packages (from torchmetrics>=0.7.0->pytorch-lightning==2.4.0) (2.0.2)\n",
            "Requirement already satisfied: aiohappyeyeballs>=2.3.0 in /usr/local/lib/python3.11/dist-packages (from aiohttp!=4.0.0a0,!=4.0.0a1->fsspec[http]>=2022.5.0->pytorch-lightning==2.4.0) (2.6.1)\n",
            "Requirement already satisfied: aiosignal>=1.1.2 in /usr/local/lib/python3.11/dist-packages (from aiohttp!=4.0.0a0,!=4.0.0a1->fsspec[http]>=2022.5.0->pytorch-lightning==2.4.0) (1.3.2)\n",
            "Requirement already satisfied: attrs>=17.3.0 in /usr/local/lib/python3.11/dist-packages (from aiohttp!=4.0.0a0,!=4.0.0a1->fsspec[http]>=2022.5.0->pytorch-lightning==2.4.0) (25.3.0)\n",
            "Requirement already satisfied: frozenlist>=1.1.1 in /usr/local/lib/python3.11/dist-packages (from aiohttp!=4.0.0a0,!=4.0.0a1->fsspec[http]>=2022.5.0->pytorch-lightning==2.4.0) (1.7.0)\n",
            "Requirement already satisfied: multidict<7.0,>=4.5 in /usr/local/lib/python3.11/dist-packages (from aiohttp!=4.0.0a0,!=4.0.0a1->fsspec[http]>=2022.5.0->pytorch-lightning==2.4.0) (6.6.3)\n",
            "Requirement already satisfied: propcache>=0.2.0 in /usr/local/lib/python3.11/dist-packages (from aiohttp!=4.0.0a0,!=4.0.0a1->fsspec[http]>=2022.5.0->pytorch-lightning==2.4.0) (0.3.2)\n",
            "Requirement already satisfied: yarl<2.0,>=1.17.0 in /usr/local/lib/python3.11/dist-packages (from aiohttp!=4.0.0a0,!=4.0.0a1->fsspec[http]>=2022.5.0->pytorch-lightning==2.4.0) (1.20.1)\n",
            "Requirement already satisfied: MarkupSafe>=2.0 in /usr/local/lib/python3.11/dist-packages (from jinja2->torch>=2.1.0->pytorch-lightning==2.4.0) (3.0.2)\n",
            "Requirement already satisfied: idna>=2.0 in /usr/local/lib/python3.11/dist-packages (from yarl<2.0,>=1.17.0->aiohttp!=4.0.0a0,!=4.0.0a1->fsspec[http]>=2022.5.0->pytorch-lightning==2.4.0) (3.10)\n",
            "Requirement already satisfied: torch_geometric in /usr/local/lib/python3.11/dist-packages (2.6.1)\n",
            "Requirement already satisfied: aiohttp in /usr/local/lib/python3.11/dist-packages (from torch_geometric) (3.11.15)\n",
            "Requirement already satisfied: fsspec in /usr/local/lib/python3.11/dist-packages (from torch_geometric) (2025.3.2)\n",
            "Requirement already satisfied: jinja2 in /usr/local/lib/python3.11/dist-packages (from torch_geometric) (3.1.6)\n",
            "Requirement already satisfied: numpy in /usr/local/lib/python3.11/dist-packages (from torch_geometric) (2.0.2)\n",
            "Requirement already satisfied: psutil>=5.8.0 in /usr/local/lib/python3.11/dist-packages (from torch_geometric) (5.9.5)\n",
            "Requirement already satisfied: pyparsing in /usr/local/lib/python3.11/dist-packages (from torch_geometric) (3.2.3)\n",
            "Requirement already satisfied: requests in /usr/local/lib/python3.11/dist-packages (from torch_geometric) (2.32.3)\n",
            "Requirement already satisfied: tqdm in /usr/local/lib/python3.11/dist-packages (from torch_geometric) (4.67.1)\n",
            "Requirement already satisfied: aiohappyeyeballs>=2.3.0 in /usr/local/lib/python3.11/dist-packages (from aiohttp->torch_geometric) (2.6.1)\n",
            "Requirement already satisfied: aiosignal>=1.1.2 in /usr/local/lib/python3.11/dist-packages (from aiohttp->torch_geometric) (1.3.2)\n",
            "Requirement already satisfied: attrs>=17.3.0 in /usr/local/lib/python3.11/dist-packages (from aiohttp->torch_geometric) (25.3.0)\n",
            "Requirement already satisfied: frozenlist>=1.1.1 in /usr/local/lib/python3.11/dist-packages (from aiohttp->torch_geometric) (1.7.0)\n",
            "Requirement already satisfied: multidict<7.0,>=4.5 in /usr/local/lib/python3.11/dist-packages (from aiohttp->torch_geometric) (6.6.3)\n",
            "Requirement already satisfied: propcache>=0.2.0 in /usr/local/lib/python3.11/dist-packages (from aiohttp->torch_geometric) (0.3.2)\n",
            "Requirement already satisfied: yarl<2.0,>=1.17.0 in /usr/local/lib/python3.11/dist-packages (from aiohttp->torch_geometric) (1.20.1)\n",
            "Requirement already satisfied: MarkupSafe>=2.0 in /usr/local/lib/python3.11/dist-packages (from jinja2->torch_geometric) (3.0.2)\n",
            "Requirement already satisfied: charset-normalizer<4,>=2 in /usr/local/lib/python3.11/dist-packages (from requests->torch_geometric) (3.4.2)\n",
            "Requirement already satisfied: idna<4,>=2.5 in /usr/local/lib/python3.11/dist-packages (from requests->torch_geometric) (3.10)\n",
            "Requirement already satisfied: urllib3<3,>=1.21.1 in /usr/local/lib/python3.11/dist-packages (from requests->torch_geometric) (2.4.0)\n",
            "Requirement already satisfied: certifi>=2017.4.17 in /usr/local/lib/python3.11/dist-packages (from requests->torch_geometric) (2025.6.15)\n"
          ]
        }
      ]
    },
    {
      "cell_type": "markdown",
      "metadata": {
        "id": "bGeA4P7f2X-o"
      },
      "source": [
        "## Manually load reactant and product"
      ]
    },
    {
      "cell_type": "code",
      "execution_count": 17,
      "metadata": {
        "id": "sqX1AHiFxwBv"
      },
      "outputs": [],
      "source": [
        "reactant = ase.Atoms(symbols=['C', 'C', 'H', 'H', 'H', 'H', 'H', 'H'],\n",
        "                    positions=[\n",
        "                    [-0.7630691361, -0.0020190208,  0.0034566355],\n",
        "                    [ 0.7626325757,  0.0019950530,  0.0009730411],\n",
        "                    [-1.1589043116, -0.5118960388,  0.8883793728],\n",
        "                    [ 1.1613211937,  0.5116793524,  0.8847263259],\n",
        "                    [-1.1629572511,  1.0174805269,  0.0041985317],\n",
        "                    [-1.1617577754, -0.5117033851, -0.8802966057],\n",
        "                    [ 1.1625206820, -1.0175044968,  0.0002310876],\n",
        "                    [ 1.1584677813,  0.5118721300, -0.8839496535],\n",
        "                    ]\n",
        "                     )\n",
        "product = ase.Atoms(symbols=['C', 'C', 'H', 'H', 'H', 'H', 'H', 'H'],\n",
        "                     positions=[\n",
        "                    [ 0.8250132507, -0.3044255156, -0.0001793369],\n",
        "                    [-0.0708590455,  0.6761106267, -0.0016038483],\n",
        "                    [-2.2168320223, -1.1357962646,  0.0051867426],\n",
        "                    [-2.9069107362, -1.4149124935,  0.0006665373],\n",
        "                    [ 1.2144012074, -0.7244594455, -0.9242788205],\n",
        "                    [ 1.2098231719, -0.7260043834,  0.9251338654],\n",
        "                    [-0.4588134959,  1.0959757755,  0.9230324730],\n",
        "                    [-0.4554227885,  1.0988459975, -0.9270321510],\n",
        "                    ]\n",
        "                     )\n",
        "#align product to reactant structure\n",
        "_,aligned_product = project_trans_rot(reactant.get_positions(),product.get_positions())\n",
        "product.set_positions(aligned_product.reshape(-1,3))\n",
        "\n",
        "\n",
        "#alternatively load one of the reactions in our benchmark set\n",
        "#this loads the reactant and product structures and performs the alignment\n",
        "reactant, product = load_xyz(\"data/06_diels_alder/\")"
      ]
    },
    {
      "cell_type": "markdown",
      "metadata": {
        "id": "HeDzIcpp2gUq"
      },
      "source": [
        "#Run FSM"
      ]
    },
    {
      "cell_type": "code",
      "execution_count": 18,
      "metadata": {
        "colab": {
          "base_uri": "https://localhost:8080/"
        },
        "id": "VX83ack6b-lg",
        "outputId": "5b552529-88c8-4351-8c74-94eab5c61748"
      },
      "outputs": [
        {
          "output_type": "stream",
          "name": "stderr",
          "text": [
            "INFO:pytorch_lightning.utilities.migration.utils:Lightning automatically upgraded your loaded checkpoint from v1.5.9 to v2.4.0. To apply the upgrade to your files permanently, run `python -m pytorch_lightning.utilities.upgrade_checkpoint pre_trained_gnns/schnet_fine_tuned.ckpt`\n"
          ]
        },
        {
          "output_type": "stream",
          "name": "stdout",
          "text": [
            "NNODES_MIN: 18\n",
            "DIST: 5.693 STEPSIZE: 0.316\n",
            "ITERATION: 1 DIST: 4.81 ENERGY: [2.4 2.2 0.4 0.0]\n",
            "ITERATION: 2 DIST: 4.23 ENERGY: [2.4 2.2 2.2 1.3 0.4 0.0]\n",
            "ITERATION: 3 DIST: 3.61 ENERGY: [2.4 2.2 2.2 2.2 2.1 1.3 0.4 0.0]\n",
            "ITERATION: 4 DIST: 3.01 ENERGY: [2.4 2.2 2.2 2.2 2.3 3.1 2.1 1.3 0.4 0.0]\n",
            "ITERATION: 5 DIST: 2.39 ENERGY: [2.4 2.2 2.2 2.2 2.3 2.3 4.4 3.1 2.1 1.3 0.4 0.0]\n",
            "ITERATION: 6 DIST: 1.77 ENERGY: [2.4 2.2 2.2 2.2 2.3 2.3 2.5 4.7 4.4 3.1 2.1 1.3 0.4 0.0]\n",
            "ITERATION: 7 DIST: 1.17 ENERGY: [2.4 2.2 2.2 2.2 2.3 2.3 2.5 2.6 4.1 4.7 4.4 3.1 2.1 1.3 0.4 0.0]\n",
            "ITERATION: 8 DIST: 0.56 ENERGY: [2.4 2.2 2.2 2.2 2.3 2.3 2.5 2.6 2.5 3.1 4.1 4.7 4.4 3.1 2.1 1.3 0.4 0.0]\n",
            "ITERATION: 9 DIST: 0.23 ENERGY: [2.4 2.2 2.2 2.2 2.3 2.3 2.5 2.6 2.5 2.7 3.1 4.1 4.7 4.4 3.1 2.1 1.3 0.4\n",
            " 0.0]\n",
            "Gradient calls: 52\n"
          ]
        }
      ],
      "source": [
        "#parameters\n",
        "nnodes_min = 18\n",
        "interp = 'ric'\n",
        "ninterp = 50\n",
        "method = 'L-BFGS-B'\n",
        "maxiter = 1\n",
        "maxls = 3\n",
        "dmax = 0.3\n",
        "\n",
        "#name the create output folder\n",
        "run_name = \"FSM_run\"\n",
        "outdir = f\"{run_name}_Nodes_{nnodes_min}_interp_{interp}_maxiter_{maxiter}_maxls_{maxls}\"\n",
        "if not os.path.exists(outdir):\n",
        "  os.makedirs(outdir)\n",
        "else:\n",
        "  shutil.rmtree(outdir)\n",
        "  os.makedirs(outdir)\n",
        "\n",
        "#load calculator\n",
        "ckpt = \"pre_trained_gnns/schnet_fine_tuned.ckpt\"\n",
        "from schnet_ase_calculator import SchNetCalculator\n",
        "calc = SchNetCalculator(checkpoint = ckpt)\n",
        "\n",
        "# string class\n",
        "string = FreezingString(reactant, product, nnodes_min, interp, ninterp)\n",
        "\n",
        "# optimizer class\n",
        "optimizer = CartesianOptimizer(calc, method, maxiter, maxls, dmax)\n",
        "\n",
        "# run\n",
        "while (string.growing):\n",
        "    string.grow()\n",
        "    string.optimize(optimizer)\n",
        "    string.write(outdir)\n",
        "print(\"Gradient calls:\", string.ngrad)"
      ]
    },
    {
      "cell_type": "markdown",
      "metadata": {
        "id": "VDaxz_CN2rSZ"
      },
      "source": [
        "## Plotting and Visualization"
      ]
    },
    {
      "cell_type": "code",
      "execution_count": 19,
      "metadata": {
        "id": "ybfqXaWKchKX"
      },
      "outputs": [],
      "source": [
        "all_atoms = string.r_string+string.p_string[::-1]\n",
        "all_energies = np.array(string.r_energy+string.p_energy[::-1])\n",
        "all_energies = (all_energies-min(all_energies))\n",
        "ts_idx = all_energies.argmax()\n",
        "path = [structure.get_positions() for structure in all_atoms]\n",
        "s = calculate_arc_length(np.array(path))"
      ]
    },
    {
      "cell_type": "code",
      "execution_count": 20,
      "metadata": {
        "colab": {
          "base_uri": "https://localhost:8080/",
          "height": 451
        },
        "id": "f2RjahXmTRRq",
        "outputId": "c9eeac7f-77b8-47f3-be3f-1ba13d0ff6f1"
      },
      "outputs": [
        {
          "output_type": "display_data",
          "data": {
            "text/plain": [
              "<Figure size 640x480 with 1 Axes>"
            ],
            "image/png": "[encoded data removed]"
          },
          "metadata": {}
        }
      ],
      "source": [
        "plt.plot(s,all_energies,label='FSM Path')\n",
        "plt.scatter(s[ts_idx],all_energies[ts_idx],color='red',label='TS Guess')\n",
        "plt.scatter(s[0],all_energies[0],color='black',label='Reactant/Product')\n",
        "plt.scatter(s[-1],all_energies[-1],color='black')\n",
        "plt.xlabel('Arclength (Å)')\n",
        "plt.ylabel('Energy (eV)')\n",
        "plt.legend()\n",
        "plt.show()"
      ]
    },
    {
      "cell_type": "code",
      "execution_count": 21,
      "metadata": {
        "colab": {
          "base_uri": "https://localhost:8080/",
          "height": 305
        },
        "id": "437ie0q2O7bZ",
        "outputId": "fe0e07e8-d029-49e8-f615-8a9312033075"
      },
      "outputs": [
        {
          "output_type": "execute_result",
          "data": {
            "text/plain": [
              "<IPython.core.display.HTML object>"
            ],
            "text/html": [
              "<div style='display:flex;gap:10px'>\n",
              "                  <div style='display:flex;flex-direction:column;align-items:center;margin-right:10px'>\n",
              "                      <div style='font-weight:bold;margin-bottom:4px;text-align:center'>Reactant<br> Relative Energy: 2.4 eV</div>\n",
              "                      <div id=\"3dmolviewer_17520062181159441\"  style=\"position: relative; width: 250px; height: 250px;\">\n",
              "        <p id=\"3dmolwarning_17520062181159441\" style=\"background-color:#ffcccc;color:black\">3Dmol.js failed to load for some reason.  Please check your browser console for error messages.<br></p>\n",
              "        </div>\n",
              "<script>\n",
              "\n",
              "var loadScriptAsync = function(uri){\n",
              "  return new Promise((resolve, reject) => {\n",
              "    //this is to ignore the existence of requirejs amd\n",
              "    var savedexports, savedmodule;\n",
              "    if (typeof exports !== 'undefined') savedexports = exports;\n",
              "    else exports = {}\n",
              "    if (typeof module !== 'undefined') savedmodule = module;\n",
              "    else module = {}\n",
              "\n",
              "    var tag = document.createElement('script');\n",
              "    tag.src = uri;\n",
              "    tag.async = true;\n",
              "    tag.onload = () => {\n",
              "        exports = savedexports;\n",
              "        module = savedmodule;\n",
              "        resolve();\n",
              "    };\n",
              "  var firstScriptTag = document.getElementsByTagName('script')[0];\n",
              "  firstScriptTag.parentNode.insertBefore(tag, firstScriptTag);\n",
              "});\n",
              "};\n",
              "\n",
              "if(typeof $3Dmolpromise === 'undefined') {\n",
              "$3Dmolpromise = null;\n",
              "  $3Dmolpromise = loadScriptAsync('https://cdn.jsdelivr.net/npm/3dmol@2.5.1/build/3Dmol-min.js');\n",
              "}\n",
              "\n",
              "var viewer_17520062181159441 = null;\n",
              "var warn = document.getElementById(\"3dmolwarning_17520062181159441\");\n",
              "if(warn) {\n",
              "    warn.parentNode.removeChild(warn);\n",
              "}\n",
              "$3Dmolpromise.then(function() {\n",
              "viewer_17520062181159441 = $3Dmol.createViewer(document.getElementById(\"3dmolviewer_17520062181159441\"),{backgroundColor:\"white\"});\n",
              "viewer_17520062181159441.zoomTo();\n",
              "\tviewer_17520062181159441.addModel(\"16\\n\\nC -0.616734437 -1.522942512 0.4053396301\\nC -1.5034534892 1.3966194097 0.5512899434\\nC -1.7608854067 0.527729432 -0.4272344455\\nC -1.5525309309 -0.9293628599 -0.3371906069\\nC 2.841158501 -0.3182844632 0.0093719154\\nC 2.1860819896 0.7984184542 -0.2864252682\\nH -2.1665530944 0.8976569653 -1.3689452889\\nH -2.214962094 -1.5456821227 -0.944647058\\nH -0.5309376223 -2.605415 0.4434040701\\nH -1.6564762015 2.4642385826 0.4204361079\\nH 0.096110885 -0.9474397197 0.9924330734\\nH -1.1410426503 1.0654309294 1.5221361747\\nH 2.3714985264 -1.2950168156 -0.0845281691\\nH 1.154099282 0.7840119322 -0.6306920806\\nH 3.8713938356 -0.3066537106 0.3577512455\\nH 2.6550517725 1.7758041942 -0.1982550851\\n\",\"xyz\");\n",
              "\tviewer_17520062181159441.setStyle({\"stick\": {\"radius\": 0.2}, \"sphere\": {\"radius\": 0.6}});\n",
              "\tviewer_17520062181159441.zoomTo();\n",
              "viewer_17520062181159441.render();\n",
              "});\n",
              "</script>\n",
              "                  </div>\n",
              "                  \n",
              "                  <div style='display:flex;flex-direction:column;align-items:center;margin-right:10px'>\n",
              "                      <div style='font-weight:bold;margin-bottom:4px;text-align:center'>TS Guess<br> Relative Energy: 4.7 eV</div>\n",
              "                      <div id=\"3dmolviewer_17520062181160893\"  style=\"position: relative; width: 250px; height: 250px;\">\n",
              "        <p id=\"3dmolwarning_17520062181160893\" style=\"background-color:#ffcccc;color:black\">3Dmol.js failed to load for some reason.  Please check your browser console for error messages.<br></p>\n",
              "        </div>\n",
              "<script>\n",
              "\n",
              "var loadScriptAsync = function(uri){\n",
              "  return new Promise((resolve, reject) => {\n",
              "    //this is to ignore the existence of requirejs amd\n",
              "    var savedexports, savedmodule;\n",
              "    if (typeof exports !== 'undefined') savedexports = exports;\n",
              "    else exports = {}\n",
              "    if (typeof module !== 'undefined') savedmodule = module;\n",
              "    else module = {}\n",
              "\n",
              "    var tag = document.createElement('script');\n",
              "    tag.src = uri;\n",
              "    tag.async = true;\n",
              "    tag.onload = () => {\n",
              "        exports = savedexports;\n",
              "        module = savedmodule;\n",
              "        resolve();\n",
              "    };\n",
              "  var firstScriptTag = document.getElementsByTagName('script')[0];\n",
              "  firstScriptTag.parentNode.insertBefore(tag, firstScriptTag);\n",
              "});\n",
              "};\n",
              "\n",
              "if(typeof $3Dmolpromise === 'undefined') {\n",
              "$3Dmolpromise = null;\n",
              "  $3Dmolpromise = loadScriptAsync('https://cdn.jsdelivr.net/npm/3dmol@2.5.1/build/3Dmol-min.js');\n",
              "}\n",
              "\n",
              "var viewer_17520062181160893 = null;\n",
              "var warn = document.getElementById(\"3dmolwarning_17520062181160893\");\n",
              "if(warn) {\n",
              "    warn.parentNode.removeChild(warn);\n",
              "}\n",
              "$3Dmolpromise.then(function() {\n",
              "viewer_17520062181160893 = $3Dmol.createViewer(document.getElementById(\"3dmolviewer_17520062181160893\"),{backgroundColor:\"white\"});\n",
              "viewer_17520062181160893.zoomTo();\n",
              "\tviewer_17520062181160893.addModel(\"16\\n\\nC 0.036145447039944566 -1.477857751989705 0.05432113095555965\\nC -0.573705808972972 1.4612638188842362 0.2108316256049699\\nC -1.480439229154927 0.4594647155758315 -0.12389409377608959\\nC -1.208211822653157 -0.8783641623016768 -0.11564957471033818\\nC 1.769467310762065 -0.3557793928626603 0.319398062085765\\nC 1.3678849150818788 0.8777133060935564 -0.20514707102809612\\nH -2.4892619086745804 0.7090408481432295 -0.45631581845488633\\nH -2.0693331195357865 -1.4794758953238285 -0.36518167707356053\\nH 0.05416760013069447 -2.339873118543965 -0.609497053766591\\nH -0.9086395932677812 2.4105894996169632 -0.21240797474418346\\nH 0.12174685176685003 -1.8277465866562301 1.0740465855704717\\nH -0.4869238142188484 1.6438826753142899 1.2934390737060135\\nH 2.3594875766280716 -1.1679370833877152 -0.2123314009663039\\nH 1.0755452631864955 0.7666711788245053 -1.242522673463481\\nH 2.389311118269307 -0.25585408060628206 1.2257372571471756\\nH 2.107335372114522 1.6782112552169388 -0.17750650479827587\\n\",\"xyz\");\n",
              "\tviewer_17520062181160893.setStyle({\"stick\": {\"radius\": 0.2}, \"sphere\": {\"radius\": 0.6}});\n",
              "\tviewer_17520062181160893.zoomTo();\n",
              "viewer_17520062181160893.render();\n",
              "});\n",
              "</script>\n",
              "                  </div>\n",
              "                  \n",
              "                  <div style='display:flex;flex-direction:column;align-items:center;margin-right:10px'>\n",
              "                      <div style='font-weight:bold;margin-bottom:4px;text-align:center'>Product<br> Relative Energy: 0.0 eV</div>\n",
              "                      <div id=\"3dmolviewer_17520062181162114\"  style=\"position: relative; width: 250px; height: 250px;\">\n",
              "        <p id=\"3dmolwarning_17520062181162114\" style=\"background-color:#ffcccc;color:black\">3Dmol.js failed to load for some reason.  Please check your browser console for error messages.<br></p>\n",
              "        </div>\n",
              "<script>\n",
              "\n",
              "var loadScriptAsync = function(uri){\n",
              "  return new Promise((resolve, reject) => {\n",
              "    //this is to ignore the existence of requirejs amd\n",
              "    var savedexports, savedmodule;\n",
              "    if (typeof exports !== 'undefined') savedexports = exports;\n",
              "    else exports = {}\n",
              "    if (typeof module !== 'undefined') savedmodule = module;\n",
              "    else module = {}\n",
              "\n",
              "    var tag = document.createElement('script');\n",
              "    tag.src = uri;\n",
              "    tag.async = true;\n",
              "    tag.onload = () => {\n",
              "        exports = savedexports;\n",
              "        module = savedmodule;\n",
              "        resolve();\n",
              "    };\n",
              "  var firstScriptTag = document.getElementsByTagName('script')[0];\n",
              "  firstScriptTag.parentNode.insertBefore(tag, firstScriptTag);\n",
              "});\n",
              "};\n",
              "\n",
              "if(typeof $3Dmolpromise === 'undefined') {\n",
              "$3Dmolpromise = null;\n",
              "  $3Dmolpromise = loadScriptAsync('https://cdn.jsdelivr.net/npm/3dmol@2.5.1/build/3Dmol-min.js');\n",
              "}\n",
              "\n",
              "var viewer_17520062181162114 = null;\n",
              "var warn = document.getElementById(\"3dmolwarning_17520062181162114\");\n",
              "if(warn) {\n",
              "    warn.parentNode.removeChild(warn);\n",
              "}\n",
              "$3Dmolpromise.then(function() {\n",
              "viewer_17520062181162114 = $3Dmol.createViewer(document.getElementById(\"3dmolviewer_17520062181162114\"),{backgroundColor:\"white\"});\n",
              "viewer_17520062181162114.zoomTo();\n",
              "\tviewer_17520062181162114.addModel(\"16\\n\\nC 0.2586031669513068 -1.4815782025140836 -0.05415634910851974\\nC -0.2874605172225334 1.4594708570132222 0.10165041163653282\\nC -1.3733558893980882 0.4147196874812734 0.05135569859975442\\nC -1.129062087394164 -0.8925704373614914 -0.0350945542022226\\nC 1.3146555532599868 -0.46193084512268584 0.38007632383807033\\nC 1.073582164249639 0.8853991718953116 -0.2996543888635501\\nH -2.4036423062048176 0.7671934158576099 0.0865046310570814\\nH -1.9636584727087296 -1.5906690811708555 -0.0903377342869819\\nH 0.4833426500211076 -1.8521629159371813 -1.0655267935364485\\nH -0.5536741300126722 2.2995447593906073 -0.5530311288764531\\nH 0.2924843908048016 -2.3635326582083964 0.598716311802671\\nH -0.23227124748935768 1.8805559743904314 1.1169938568809719\\nH 2.3191390483333705 -0.8395245455961495 0.15549964803652197\\nH 1.101811378723609 0.7484337570040144 -1.3894184971382104\\nH 1.260251317259827 -0.3288911175616658 1.469300172804431\\nH 1.8710738466267125 1.5946548763400397 -0.048633450443649195\\n\",\"xyz\");\n",
              "\tviewer_17520062181162114.setStyle({\"stick\": {\"radius\": 0.2}, \"sphere\": {\"radius\": 0.6}});\n",
              "\tviewer_17520062181162114.zoomTo();\n",
              "viewer_17520062181162114.render();\n",
              "});\n",
              "</script>\n",
              "                  </div>\n",
              "                  </div>"
            ]
          },
          "metadata": {},
          "execution_count": 21
        }
      ],
      "source": [
        "from IPython.display import HTML\n",
        "\n",
        "def snapshot_row(atoms_list, labels=None):\n",
        "    html_str = \"\"\n",
        "    for i, atoms in enumerate(atoms_list):\n",
        "        symbols = atoms.get_chemical_symbols()\n",
        "        positions = atoms.get_positions()\n",
        "\n",
        "        xyz_str = f\"{len(atoms)}\\n\\n\"\n",
        "        for sym, pos in zip(symbols, positions):\n",
        "            xyz_str += f\"{sym} {pos[0]} {pos[1]} {pos[2]}\\n\"\n",
        "\n",
        "        view = py3Dmol.view(width=250, height=250)\n",
        "        view.addModel(xyz_str, 'xyz')\n",
        "        view.setStyle({'stick': {'radius': 0.2}, 'sphere': {'radius': 0.6}})\n",
        "        view.zoomTo()\n",
        "\n",
        "        # Generate label and viewer together\n",
        "        label_text = labels[i] if labels else f\"Frame {i}\"\n",
        "        viewer_html = view._make_html()\n",
        "\n",
        "        # Combine label and viewer in a single column\n",
        "        html_str += f\"\"\"\n",
        "                  <div style='display:flex;flex-direction:column;align-items:center;margin-right:10px'>\n",
        "                      <div style='font-weight:bold;margin-bottom:4px;text-align:center'>{label_text}</div>\n",
        "                      {viewer_html}\n",
        "                  </div>\n",
        "                  \"\"\"\n",
        "\n",
        "\n",
        "    return HTML(f\"<div style='display:flex;gap:10px'>{html_str}</div>\")\n",
        "\n",
        "# Example usage\n",
        "frames_to_show = [all_atoms[0], all_atoms[ts_idx], all_atoms[-1]]\n",
        "custom_labels = ['Reactant<br> Relative Energy: {:.1f} eV'.format(all_energies[0]),\n",
        "                 'TS Guess<br> Relative Energy: {:.1f} eV'.format(all_energies[ts_idx]),\n",
        "                 'Product<br> Relative Energy: {:.1f} eV'.format(all_energies[-1])]\n",
        "snapshot_row(frames_to_show, custom_labels)\n"
      ]
    }
  ],
  "metadata": {
    "colab": {
      "provenance": []
    },
    "kernelspec": {
      "display_name": "Python 3",
      "name": "python3"
    },
    "language_info": {
      "name": "python"
    }
  },
  "nbformat": 4,
  "nbformat_minor": 0
}